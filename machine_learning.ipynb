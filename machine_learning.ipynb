{
 "cells": [
  {
   "cell_type": "code",
   "execution_count": 2,
   "metadata": {},
   "outputs": [],
   "source": [
    "# Loading dependencies (pip install rake_nltk)\n",
    "\n",
    "import pandas as pd\n",
    "import numpy as np\n",
    "from rake_nltk import Rake\n",
    "from sklearn.metrics.pairwise import cosine_similarity\n",
    "from sklearn.feature_extraction.text import CountVectorizer "
   ]
  },
  {
   "cell_type": "code",
   "execution_count": 29,
   "metadata": {},
   "outputs": [
    {
     "data": {
      "text/html": [
       "<div>\n",
       "<style scoped>\n",
       "    .dataframe tbody tr th:only-of-type {\n",
       "        vertical-align: middle;\n",
       "    }\n",
       "\n",
       "    .dataframe tbody tr th {\n",
       "        vertical-align: top;\n",
       "    }\n",
       "\n",
       "    .dataframe thead th {\n",
       "        text-align: right;\n",
       "    }\n",
       "</style>\n",
       "<table border=\"1\" class=\"dataframe\">\n",
       "  <thead>\n",
       "    <tr style=\"text-align: right;\">\n",
       "      <th></th>\n",
       "      <th>movie_id</th>\n",
       "      <th>title</th>\n",
       "      <th>bag_of_words</th>\n",
       "    </tr>\n",
       "  </thead>\n",
       "  <tbody>\n",
       "    <tr>\n",
       "      <th>3377</th>\n",
       "      <td>4591</td>\n",
       "      <td>Erik the Viking (1989)</td>\n",
       "      <td>adventure comedy fantasy</td>\n",
       "    </tr>\n",
       "    <tr>\n",
       "      <th>7334</th>\n",
       "      <td>77800</td>\n",
       "      <td>Four Lions (2010)</td>\n",
       "      <td>comedy drama</td>\n",
       "    </tr>\n",
       "    <tr>\n",
       "      <th>1140</th>\n",
       "      <td>1490</td>\n",
       "      <td>B*A*P*S (1997)</td>\n",
       "      <td>comedy</td>\n",
       "    </tr>\n",
       "    <tr>\n",
       "      <th>8897</th>\n",
       "      <td>134808</td>\n",
       "      <td>No Way Jose (2015)</td>\n",
       "      <td>comedy</td>\n",
       "    </tr>\n",
       "    <tr>\n",
       "      <th>1831</th>\n",
       "      <td>2430</td>\n",
       "      <td>Mighty Joe Young (1949)</td>\n",
       "      <td>adventure children drama</td>\n",
       "    </tr>\n",
       "  </tbody>\n",
       "</table>\n",
       "</div>"
      ],
      "text/plain": [
       "      movie_id                    title               bag_of_words\n",
       "3377      4591   Erik the Viking (1989)  adventure comedy fantasy \n",
       "7334     77800        Four Lions (2010)              comedy drama \n",
       "1140      1490           B*A*P*S (1997)                    comedy \n",
       "8897    134808       No Way Jose (2015)                    comedy \n",
       "1831      2430  Mighty Joe Young (1949)  adventure children drama "
      ]
     },
     "execution_count": 29,
     "metadata": {},
     "output_type": "execute_result"
    }
   ],
   "source": [
    "# Loading the bag of soup dataframe\n",
    "main_df = pd.read_csv(\"movies_csv/movies_bag.csv\")\n",
    "main_df.sample(5)\n"
   ]
  },
  {
   "cell_type": "code",
   "execution_count": 25,
   "metadata": {},
   "outputs": [
    {
     "name": "stdout",
     "output_type": "stream",
     "text": [
      "[[1.         0.42163702 0.15811388 ... 0.         0.2236068  0.31622777]\n",
      " [0.42163702 1.         0.         ... 0.         0.         0.        ]\n",
      " [0.15811388 0.         1.         ... 0.         0.         0.5       ]\n",
      " ...\n",
      " [0.         0.         0.         ... 1.         0.         0.        ]\n",
      " [0.2236068  0.         0.         ... 0.         1.         0.        ]\n",
      " [0.31622777 0.         0.5        ... 0.         0.         1.        ]]\n"
     ]
    }
   ],
   "source": [
    "# Turning the bag_of_words into a matrix\n",
    "\n",
    "count = CountVectorizer()\n",
    "count_matrix = count.fit_transform(main_df['bag_of_words'])\n",
    "cosine_sim = cosine_similarity(count_matrix, count_matrix)\n",
    "print(cosine_sim)"
   ]
  },
  {
   "cell_type": "code",
   "execution_count": 13,
   "metadata": {},
   "outputs": [],
   "source": [
    "# Turning title column into a series\n",
    "\n",
    "indices = pd.Series(main_df['title'])"
   ]
  },
  {
   "cell_type": "code",
   "execution_count": 14,
   "metadata": {},
   "outputs": [],
   "source": [
    "# Create the equation\n",
    "\n",
    "def recommend(title, cosine_sim = cosine_sim):\n",
    "    \n",
    "    recommended_movies = []\n",
    "    idx = indices[indices == title].index[0]\n",
    "    score_series = pd.Series(cosine_sim[idx]).sort_values(ascending = False)\n",
    "    top_10_indices = list(score_series.iloc[1:11].index)\n",
    "    \n",
    "    for i in top_10_indices:\n",
    "        recommended_movies.append(list(main_df['title'])[i])\n",
    "        \n",
    "    return recommended_movies"
   ]
  },
  {
   "cell_type": "code",
   "execution_count": 30,
   "metadata": {
    "scrolled": false
   },
   "outputs": [
    {
     "data": {
      "text/plain": [
       "['Gung Ho (1986)',\n",
       " 'Rushmore (1998)',\n",
       " 'Greenfingers (2000)',\n",
       " 'Carnage (2011)',\n",
       " 'Jack (1996)',\n",
       " '50/50 (2011)',\n",
       " 'War of the Roses, The (1989)',\n",
       " 'Paper Birds (Pájaros de papel) (2010)',\n",
       " 'Miracle on 34th Street (1947)',\n",
       " 'Bernie (1996)']"
      ]
     },
     "execution_count": 30,
     "metadata": {},
     "output_type": "execute_result"
    }
   ],
   "source": [
    "recommend(\"Four Lions (2010)\")"
   ]
  },
  {
   "cell_type": "code",
   "execution_count": null,
   "metadata": {},
   "outputs": [],
   "source": []
  }
 ],
 "metadata": {
  "kernelspec": {
   "display_name": "Python 3",
   "language": "python",
   "name": "python3"
  },
  "language_info": {
   "codemirror_mode": {
    "name": "ipython",
    "version": 3
   },
   "file_extension": ".py",
   "mimetype": "text/x-python",
   "name": "python",
   "nbconvert_exporter": "python",
   "pygments_lexer": "ipython3",
   "version": "3.9.1"
  }
 },
 "nbformat": 4,
 "nbformat_minor": 4
}
