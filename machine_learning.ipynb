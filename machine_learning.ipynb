{
 "cells": [
  {
   "cell_type": "code",
   "execution_count": 1,
   "metadata": {},
   "outputs": [],
   "source": [
    "# Loading dependencies (pip install rake_nltk)\n",
    "\n",
    "import pandas as pd\n",
    "import numpy as np\n",
    "\n",
    "from sklearn.metrics.pairwise import cosine_similarity\n",
    "from sklearn.feature_extraction.text import CountVectorizer "
   ]
  },
  {
   "cell_type": "code",
   "execution_count": 3,
   "metadata": {},
   "outputs": [
    {
     "data": {
      "text/plain": [
       "3655"
      ]
     },
     "execution_count": 3,
     "metadata": {},
     "output_type": "execute_result"
    }
   ],
   "source": [
    "# Loading the bag of soup dataframe\n",
    "main_df = pd.read_csv(\"big_movies_csv/the_main_df.csv\")\n",
    "main_df.sample(5)\n",
    "len(main_df)"
   ]
  },
  {
   "cell_type": "code",
   "execution_count": 4,
   "metadata": {},
   "outputs": [
    {
     "name": "stdout",
     "output_type": "stream",
     "text": [
      "[[1.         0.38924947 0.02707652 ... 0.09534626 0.         0.        ]\n",
      " [0.38924947 1.         0.         ... 0.08164966 0.         0.        ]\n",
      " [0.02707652 0.         1.         ... 0.05679618 0.         0.14980118]\n",
      " ...\n",
      " [0.09534626 0.08164966 0.05679618 ... 1.         0.         0.13187609]\n",
      " [0.         0.         0.         ... 0.         1.         0.        ]\n",
      " [0.         0.         0.14980118 ... 0.13187609 0.         1.        ]]\n"
     ]
    }
   ],
   "source": [
    "# Turning the bag_of_words into a matrix\n",
    "\n",
    "count = CountVectorizer()\n",
    "count_matrix = count.fit_transform(main_df['bag_of_words'])\n",
    "cosine_sim = cosine_similarity(count_matrix, count_matrix)\n",
    "print(cosine_sim)"
   ]
  },
  {
   "cell_type": "code",
   "execution_count": 5,
   "metadata": {},
   "outputs": [],
   "source": [
    "# Turning title column into a series\n",
    "\n",
    "indices = pd.Series(main_df['title'])"
   ]
  },
  {
   "cell_type": "code",
   "execution_count": 6,
   "metadata": {},
   "outputs": [],
   "source": [
    "# Create the equation\n",
    "\n",
    "def recommend(title, cosine_sim = cosine_sim):\n",
    "    \n",
    "    recommended_movies = []\n",
    "    idx = indices[indices == title].index[0]\n",
    "    score_series = pd.Series(cosine_sim[idx]).sort_values(ascending = False)\n",
    "    top_10_indices = list(score_series.iloc[1:11].index)\n",
    "    \n",
    "    for i in top_10_indices:\n",
    "        recommended_movies.append(list(main_df['title'])[i])\n",
    "        \n",
    "    return recommended_movies"
   ]
  },
  {
   "cell_type": "code",
   "execution_count": 20,
   "metadata": {
    "scrolled": false
   },
   "outputs": [
    {
     "data": {
      "text/plain": [
       "['Persuasion',\n",
       " 'Romeo and Juliet',\n",
       " 'North & South',\n",
       " 'Under the Tuscan Sun',\n",
       " 'Bodyguard, The',\n",
       " 'Gone with the Wind',\n",
       " 'Fifty Shades Freed',\n",
       " 'Out of Africa',\n",
       " 'American President, The',\n",
       " 'Spanglish']"
      ]
     },
     "execution_count": 20,
     "metadata": {},
     "output_type": "execute_result"
    }
   ],
   "source": [
    "it = input()\n",
    "\n",
    "recommend(f\"{it}\")"
   ]
  },
  {
   "cell_type": "code",
   "execution_count": null,
   "metadata": {},
   "outputs": [],
   "source": []
  }
 ],
 "metadata": {
  "kernelspec": {
   "display_name": "Python 3",
   "language": "python",
   "name": "python3"
  },
  "language_info": {
   "codemirror_mode": {
    "name": "ipython",
    "version": 3
   },
   "file_extension": ".py",
   "mimetype": "text/x-python",
   "name": "python",
   "nbconvert_exporter": "python",
   "pygments_lexer": "ipython3",
   "version": "3.9.1"
  }
 },
 "nbformat": 4,
 "nbformat_minor": 4
}
