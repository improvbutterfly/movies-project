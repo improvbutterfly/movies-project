{
 "metadata": {
  "language_info": {
   "codemirror_mode": {
    "name": "ipython",
    "version": 3
   },
   "file_extension": ".py",
   "mimetype": "text/x-python",
   "name": "python",
   "nbconvert_exporter": "python",
   "pygments_lexer": "ipython3",
   "version": "3.9.1-final"
  },
  "orig_nbformat": 2,
  "kernelspec": {
   "name": "python3",
   "display_name": "Python 3",
   "language": "python"
  }
 },
 "nbformat": 4,
 "nbformat_minor": 2,
 "cells": [
  {
   "cell_type": "code",
   "execution_count": 1,
   "metadata": {},
   "outputs": [],
   "source": [
    "# Loading dependencies (pip install rake_nltk)\n",
    "\n",
    "import pandas as pd\n",
    "import numpy as np\n",
    "\n",
    "from sklearn.metrics.pairwise import cosine_similarity\n",
    "from sklearn.feature_extraction.text import CountVectorizer "
   ]
  },
  {
   "cell_type": "code",
   "execution_count": 2,
   "metadata": {},
   "outputs": [
    {
     "output_type": "execute_result",
     "data": {
      "text/plain": [
       "       movie_id                         title  year      bag_of_words\n",
       "23639    118800                Silent Madness  1984  horror thriller \n",
       "28718    132325     The Return of Count Yorga  1971           horror \n",
       "59855    201793                   After Party  2017     comedy drama \n",
       "13687     70880  7 Women (a.k.a. Seven Women)  1966            drama \n",
       "61967    207405                  Doctor Sleep  2019           horror "
      ],
      "text/html": "<div>\n<style scoped>\n    .dataframe tbody tr th:only-of-type {\n        vertical-align: middle;\n    }\n\n    .dataframe tbody tr th {\n        vertical-align: top;\n    }\n\n    .dataframe thead th {\n        text-align: right;\n    }\n</style>\n<table border=\"1\" class=\"dataframe\">\n  <thead>\n    <tr style=\"text-align: right;\">\n      <th></th>\n      <th>movie_id</th>\n      <th>title</th>\n      <th>year</th>\n      <th>bag_of_words</th>\n    </tr>\n  </thead>\n  <tbody>\n    <tr>\n      <th>23639</th>\n      <td>118800</td>\n      <td>Silent Madness</td>\n      <td>1984</td>\n      <td>horror thriller</td>\n    </tr>\n    <tr>\n      <th>28718</th>\n      <td>132325</td>\n      <td>The Return of Count Yorga</td>\n      <td>1971</td>\n      <td>horror</td>\n    </tr>\n    <tr>\n      <th>59855</th>\n      <td>201793</td>\n      <td>After Party</td>\n      <td>2017</td>\n      <td>comedy drama</td>\n    </tr>\n    <tr>\n      <th>13687</th>\n      <td>70880</td>\n      <td>7 Women (a.k.a. Seven Women)</td>\n      <td>1966</td>\n      <td>drama</td>\n    </tr>\n    <tr>\n      <th>61967</th>\n      <td>207405</td>\n      <td>Doctor Sleep</td>\n      <td>2019</td>\n      <td>horror</td>\n    </tr>\n  </tbody>\n</table>\n</div>"
     },
     "metadata": {},
     "execution_count": 2
    }
   ],
   "source": [
    "# Loading the bag of soup dataframe\n",
    "main_df = pd.read_csv(\"big_movies_csv/big_movies_bag.csv\")\n",
    "main_df.sample(5)"
   ]
  },
  {
   "cell_type": "code",
   "execution_count": null,
   "metadata": {},
   "outputs": [],
   "source": []
  },
  {
   "cell_type": "code",
   "execution_count": 3,
   "metadata": {},
   "outputs": [],
   "source": [
    "# Turning the bag_of_words into a matrix\n",
    "\n",
    "count = CountVectorizer()\n",
    "count_matrix = count.fit_transform(main_df['bag_of_words'])\n",
    "cosine_sim = cosine_similarity(count_matrix, count_matrix)\n",
    "print(cosine_sim)"
   ]
  },
  {
   "cell_type": "code",
   "execution_count": null,
   "metadata": {},
   "outputs": [],
   "source": [
    "# Turning title column into a series\n",
    "\n",
    "indices = pd.Series(main_df['title'])"
   ]
  },
  {
   "cell_type": "code",
   "execution_count": null,
   "metadata": {},
   "outputs": [],
   "source": [
    "# Create the equation\n",
    "\n",
    "def recommend(title, cosine_sim = cosine_sim):\n",
    "    \n",
    "    recommended_movies = []\n",
    "    idx = indices[indices == title].index[0]\n",
    "    score_series = pd.Series(cosine_sim[idx]).sort_values(ascending = False)\n",
    "    top_10_indices = list(score_series.iloc[1:11].index)\n",
    "    \n",
    "    for i in top_10_indices:\n",
    "        recommended_movies.append(list(main_df['title'])[i])\n",
    "        \n",
    "    return recommended_movies"
   ]
  },
  {
   "cell_type": "code",
   "execution_count": null,
   "metadata": {},
   "outputs": [],
   "source": [
    "recommend(\"Gladiator\")"
   ]
  }
 ]
}