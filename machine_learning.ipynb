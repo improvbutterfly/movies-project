{
 "cells": [
  {
   "cell_type": "code",
   "execution_count": 7,
   "metadata": {},
   "outputs": [],
   "source": [
    "# Loading dependencies (pip install rake_nltk)\n",
    "\n",
    "import pandas as pd\n",
    "import numpy as np\n",
    "\n",
    "from sklearn.metrics.pairwise import cosine_similarity\n",
    "from sklearn.feature_extraction.text import CountVectorizer "
   ]
  },
  {
   "cell_type": "code",
   "execution_count": 8,
   "metadata": {},
   "outputs": [
    {
     "output_type": "execute_result",
     "data": {
      "text/plain": [
       "      movie_id                     title    year  \\\n",
       "3120    139721                       X+Y  2014.0   \n",
       "6413     47629                 The Queen  2006.0   \n",
       "3071     74944         Brooklyn's Finest  2010.0   \n",
       "7834       943  Ghost and Mrs. Muir, The  1947.0   \n",
       "6555      6765      Under the Tuscan Sun  2003.0   \n",
       "\n",
       "                                           bag_of_words  count  \n",
       "3120                                      comedy drama      20  \n",
       "6413  drama britishroyalfamily england helenmirren m...    195  \n",
       "3071                    crime drama thriller ethanhawke     62  \n",
       "7834                             drama fantasy romance      37  \n",
       "6555           comedy drama romance strongwomen romance     72  "
      ],
      "text/html": "<div>\n<style scoped>\n    .dataframe tbody tr th:only-of-type {\n        vertical-align: middle;\n    }\n\n    .dataframe tbody tr th {\n        vertical-align: top;\n    }\n\n    .dataframe thead th {\n        text-align: right;\n    }\n</style>\n<table border=\"1\" class=\"dataframe\">\n  <thead>\n    <tr style=\"text-align: right;\">\n      <th></th>\n      <th>movie_id</th>\n      <th>title</th>\n      <th>year</th>\n      <th>bag_of_words</th>\n      <th>count</th>\n    </tr>\n  </thead>\n  <tbody>\n    <tr>\n      <th>3120</th>\n      <td>139721</td>\n      <td>X+Y</td>\n      <td>2014.0</td>\n      <td>comedy drama</td>\n      <td>20</td>\n    </tr>\n    <tr>\n      <th>6413</th>\n      <td>47629</td>\n      <td>The Queen</td>\n      <td>2006.0</td>\n      <td>drama britishroyalfamily england helenmirren m...</td>\n      <td>195</td>\n    </tr>\n    <tr>\n      <th>3071</th>\n      <td>74944</td>\n      <td>Brooklyn's Finest</td>\n      <td>2010.0</td>\n      <td>crime drama thriller ethanhawke</td>\n      <td>62</td>\n    </tr>\n    <tr>\n      <th>7834</th>\n      <td>943</td>\n      <td>Ghost and Mrs. Muir, The</td>\n      <td>1947.0</td>\n      <td>drama fantasy romance</td>\n      <td>37</td>\n    </tr>\n    <tr>\n      <th>6555</th>\n      <td>6765</td>\n      <td>Under the Tuscan Sun</td>\n      <td>2003.0</td>\n      <td>comedy drama romance strongwomen romance</td>\n      <td>72</td>\n    </tr>\n  </tbody>\n</table>\n</div>"
     },
     "metadata": {},
     "execution_count": 8
    }
   ],
   "source": [
    "# Loading the bag of soup dataframe\n",
    "main_df = pd.read_csv(\"big_movies_csv/the_main_df.csv\")\n",
    "main_df.sample(5)\n"
   ]
  },
  {
   "cell_type": "code",
   "execution_count": 9,
   "metadata": {},
   "outputs": [
    {
     "output_type": "stream",
     "name": "stdout",
     "text": [
      "[[1.         0.         0.20412415 ... 0.         0.40824829 0.35355339]\n [0.         1.         0.         ... 0.70710678 0.40824829 0.        ]\n [0.20412415 0.         1.         ... 0.         0.33333333 0.        ]\n ...\n [0.         0.70710678 0.         ... 1.         0.57735027 0.        ]\n [0.40824829 0.40824829 0.33333333 ... 0.57735027 1.         0.28867513]\n [0.35355339 0.         0.         ... 0.         0.28867513 1.        ]]\n"
     ]
    }
   ],
   "source": [
    "# Turning the bag_of_words into a matrix\n",
    "\n",
    "count = CountVectorizer()\n",
    "count_matrix = count.fit_transform(main_df['bag_of_words'])\n",
    "cosine_sim = cosine_similarity(count_matrix, count_matrix)\n",
    "print(cosine_sim)"
   ]
  },
  {
   "cell_type": "code",
   "execution_count": 10,
   "metadata": {},
   "outputs": [],
   "source": [
    "# Turning title column into a series\n",
    "\n",
    "indices = pd.Series(main_df['title'])"
   ]
  },
  {
   "cell_type": "code",
   "execution_count": 11,
   "metadata": {},
   "outputs": [],
   "source": [
    "# Create the equation\n",
    "\n",
    "def recommend(title, cosine_sim = cosine_sim):\n",
    "    \n",
    "    recommended_movies = []\n",
    "    idx = indices[indices == title].index[0]\n",
    "    score_series = pd.Series(cosine_sim[idx]).sort_values(ascending = False)\n",
    "    top_10_indices = list(score_series.iloc[1:11].index)\n",
    "    \n",
    "    for i in top_10_indices:\n",
    "        recommended_movies.append(list(main_df['title'])[i])\n",
    "        \n",
    "    return recommended_movies"
   ]
  },
  {
   "cell_type": "code",
   "execution_count": 11,
   "metadata": {
    "scrolled": false
   },
   "outputs": [
    {
     "output_type": "execute_result",
     "data": {
      "text/plain": [
       "['Dumbo',\n",
       " \"Pete's Dragon\",\n",
       " '101 Dalmatians (One Hundred and One Dalmatians)',\n",
       " 'Fox and the Hound, The',\n",
       " 'Aladdin',\n",
       " 'Snow White and the Seven Dwarfs',\n",
       " 'Alice in Wonderland',\n",
       " 'Aristocats, The',\n",
       " 'Beauty and the Beast',\n",
       " 'Jungle Book, The']"
      ]
     },
     "metadata": {},
     "execution_count": 11
    }
   ],
   "source": [
    "recommend(\"Lion King, The\")"
   ]
  },
  {
   "cell_type": "code",
   "execution_count": null,
   "metadata": {},
   "outputs": [],
   "source": []
  }
 ],
 "metadata": {
  "kernelspec": {
   "display_name": "Python 3",
   "language": "python",
   "name": "python3"
  },
  "language_info": {
   "codemirror_mode": {
    "name": "ipython",
    "version": 3
   },
   "file_extension": ".py",
   "mimetype": "text/x-python",
   "name": "python",
   "nbconvert_exporter": "python",
   "pygments_lexer": "ipython3",
   "version": "3.7.7-final"
  }
 },
 "nbformat": 4,
 "nbformat_minor": 4
}