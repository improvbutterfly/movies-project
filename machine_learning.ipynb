{
 "cells": [
  {
   "cell_type": "code",
   "execution_count": 1,
   "metadata": {},
   "outputs": [],
   "source": [
    "# Loading dependencies (pip install rake_nltk)\n",
    "\n",
    "import pandas as pd\n",
    "import numpy as np\n",
    "\n",
    "from sklearn.metrics.pairwise import cosine_similarity\n",
    "from sklearn.feature_extraction.text import CountVectorizer "
   ]
  },
  {
   "cell_type": "code",
   "execution_count": 2,
   "metadata": {},
   "outputs": [
    {
     "output_type": "execute_result",
     "data": {
      "text/plain": [
       "      movie_id                   title  year              bag_of_words\n",
       "7535     84772                    Paul  2011  adventure comedy sci-fi \n",
       "8560    116169      Reign of Assassins  2010                   action \n",
       "2849      3810             White Sands  1992           drama thriller \n",
       "4993      7704        Delta Force, The  1986                   action \n",
       "1396      1913  Picnic at Hanging Rock  1975   drama mystery australia"
      ],
      "text/html": "<div>\n<style scoped>\n    .dataframe tbody tr th:only-of-type {\n        vertical-align: middle;\n    }\n\n    .dataframe tbody tr th {\n        vertical-align: top;\n    }\n\n    .dataframe thead th {\n        text-align: right;\n    }\n</style>\n<table border=\"1\" class=\"dataframe\">\n  <thead>\n    <tr style=\"text-align: right;\">\n      <th></th>\n      <th>movie_id</th>\n      <th>title</th>\n      <th>year</th>\n      <th>bag_of_words</th>\n    </tr>\n  </thead>\n  <tbody>\n    <tr>\n      <th>7535</th>\n      <td>84772</td>\n      <td>Paul</td>\n      <td>2011</td>\n      <td>adventure comedy sci-fi</td>\n    </tr>\n    <tr>\n      <th>8560</th>\n      <td>116169</td>\n      <td>Reign of Assassins</td>\n      <td>2010</td>\n      <td>action</td>\n    </tr>\n    <tr>\n      <th>2849</th>\n      <td>3810</td>\n      <td>White Sands</td>\n      <td>1992</td>\n      <td>drama thriller</td>\n    </tr>\n    <tr>\n      <th>4993</th>\n      <td>7704</td>\n      <td>Delta Force, The</td>\n      <td>1986</td>\n      <td>action</td>\n    </tr>\n    <tr>\n      <th>1396</th>\n      <td>1913</td>\n      <td>Picnic at Hanging Rock</td>\n      <td>1975</td>\n      <td>drama mystery australia</td>\n    </tr>\n  </tbody>\n</table>\n</div>"
     },
     "metadata": {},
     "execution_count": 2
    }
   ],
   "source": [
    "# Loading the bag of soup dataframe\n",
    "main_df = pd.read_csv(\"movies_csv/movies_bag.csv\")\n",
    "main_df.sample(5)\n"
   ]
  },
  {
   "cell_type": "code",
   "execution_count": 3,
   "metadata": {},
   "outputs": [
    {
     "output_type": "stream",
     "name": "stdout",
     "text": [
      "[[1.         0.42163702 0.15811388 ... 0.         0.2236068  0.31622777]\n [0.42163702 1.         0.         ... 0.         0.         0.        ]\n [0.15811388 0.         1.         ... 0.         0.         0.5       ]\n ...\n [0.         0.         0.         ... 1.         0.         0.        ]\n [0.2236068  0.         0.         ... 0.         1.         0.        ]\n [0.31622777 0.         0.5        ... 0.         0.         1.        ]]\n"
     ]
    }
   ],
   "source": [
    "# Turning the bag_of_words into a matrix\n",
    "\n",
    "count = CountVectorizer()\n",
    "count_matrix = count.fit_transform(main_df['bag_of_words'])\n",
    "cosine_sim = cosine_similarity(count_matrix, count_matrix)\n",
    "print(cosine_sim)"
   ]
  },
  {
   "cell_type": "code",
   "execution_count": 4,
   "metadata": {},
   "outputs": [],
   "source": [
    "# Turning title column into a series\n",
    "\n",
    "indices = pd.Series(main_df['title'])"
   ]
  },
  {
   "cell_type": "code",
   "execution_count": 5,
   "metadata": {},
   "outputs": [],
   "source": [
    "# Create the equation\n",
    "\n",
    "def recommend(title, cosine_sim = cosine_sim):\n",
    "    \n",
    "    recommended_movies = []\n",
    "    idx = indices[indices == title].index[0]\n",
    "    score_series = pd.Series(cosine_sim[idx]).sort_values(ascending = False)\n",
    "    top_10_indices = list(score_series.iloc[1:11].index)\n",
    "    \n",
    "    for i in top_10_indices:\n",
    "        recommended_movies.append(list(main_df['title'])[i])\n",
    "        \n",
    "    return recommended_movies"
   ]
  },
  {
   "cell_type": "code",
   "execution_count": 10,
   "metadata": {
    "scrolled": false
   },
   "outputs": [
    {
     "output_type": "execute_result",
     "data": {
      "text/plain": [
       "['Getaway, The',\n",
       " 'Lord of War',\n",
       " 'K-19: The Widowmaker',\n",
       " \"Mesrine: Killer Instinct (L'instinct de mort)\",\n",
       " 'Suriyothai (a.k.a. Legend of Suriyothai, The)',\n",
       " 'Double Jeopardy',\n",
       " 'Hackers',\n",
       " 'The Pacific',\n",
       " 'Alexander',\n",
       " 'Wild Card']"
      ]
     },
     "metadata": {},
     "execution_count": 10
    }
   ],
   "source": [
    "recommend(\"Lion King, The\")"
   ]
  },
  {
   "cell_type": "code",
   "execution_count": null,
   "metadata": {},
   "outputs": [],
   "source": []
  }
 ],
 "metadata": {
  "kernelspec": {
   "display_name": "Python 3",
   "language": "python",
   "name": "python3"
  },
  "language_info": {
   "codemirror_mode": {
    "name": "ipython",
    "version": 3
   },
   "file_extension": ".py",
   "mimetype": "text/x-python",
   "name": "python",
   "nbconvert_exporter": "python",
   "pygments_lexer": "ipython3",
   "version": "3.7.7-final"
  }
 },
 "nbformat": 4,
 "nbformat_minor": 4
}