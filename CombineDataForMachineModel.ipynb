{
 "cells": [
  {
   "cell_type": "markdown",
   "metadata": {},
   "source": [
    "# Combining Data from Database Into CSV"
   ]
  },
  {
   "cell_type": "code",
   "execution_count": 5,
   "metadata": {},
   "outputs": [],
   "source": [
    "import pandas as pd\n",
    "import sqlalchemy\n",
    "from sqlalchemy import create_engine\n",
    "from config import login"
   ]
  },
  {
   "cell_type": "code",
   "execution_count": 6,
   "metadata": {},
   "outputs": [],
   "source": [
    "# Establishing connection\n",
    "\n",
    "db_url = 'postgresql://' + login + '@localhost:5432/movie_db'\n",
    "engine = create_engine(db_url)\n",
    "connection = engine.connect()"
   ]
  },
  {
   "cell_type": "code",
   "execution_count": 7,
   "metadata": {},
   "outputs": [
    {
     "output_type": "execute_result",
     "data": {
      "text/plain": [
       "1093360"
      ]
     },
     "metadata": {},
     "execution_count": 7
    }
   ],
   "source": [
    "tag_query = f\"select movie_id, tag from tags;\"\n",
    "\n",
    "tags = pd.read_sql(tag_query, connection)\n",
    "\n",
    "len(tags)"
   ]
  },
  {
   "cell_type": "code",
   "execution_count": 10,
   "metadata": {},
   "outputs": [],
   "source": [
    "movies_bag = pd.read_csv(\"big_movies_csv/movies_bag.csv\")"
   ]
  },
  {
   "cell_type": "code",
   "execution_count": 11,
   "metadata": {},
   "outputs": [
    {
     "output_type": "execute_result",
     "data": {
      "text/plain": [
       "   movie_id                               title  \\\n",
       "0         1                    Toy Story (1995)   \n",
       "1         2                      Jumanji (1995)   \n",
       "2         3             Grumpier Old Men (1995)   \n",
       "3         4            Waiting to Exhale (1995)   \n",
       "4         5  Father of the Bride Part II (1995)   \n",
       "\n",
       "                                        bag_of_words  \n",
       "0  adventure animation children comedy fantasy ca...  \n",
       "1  adventure children fantasy robinwilliams anima...  \n",
       "2                                    comedy romance   \n",
       "3                              comedy drama romance   \n",
       "4                                            comedy   "
      ],
      "text/html": "<div>\n<style scoped>\n    .dataframe tbody tr th:only-of-type {\n        vertical-align: middle;\n    }\n\n    .dataframe tbody tr th {\n        vertical-align: top;\n    }\n\n    .dataframe thead th {\n        text-align: right;\n    }\n</style>\n<table border=\"1\" class=\"dataframe\">\n  <thead>\n    <tr style=\"text-align: right;\">\n      <th></th>\n      <th>movie_id</th>\n      <th>title</th>\n      <th>bag_of_words</th>\n    </tr>\n  </thead>\n  <tbody>\n    <tr>\n      <th>0</th>\n      <td>1</td>\n      <td>Toy Story (1995)</td>\n      <td>adventure animation children comedy fantasy ca...</td>\n    </tr>\n    <tr>\n      <th>1</th>\n      <td>2</td>\n      <td>Jumanji (1995)</td>\n      <td>adventure children fantasy robinwilliams anima...</td>\n    </tr>\n    <tr>\n      <th>2</th>\n      <td>3</td>\n      <td>Grumpier Old Men (1995)</td>\n      <td>comedy romance</td>\n    </tr>\n    <tr>\n      <th>3</th>\n      <td>4</td>\n      <td>Waiting to Exhale (1995)</td>\n      <td>comedy drama romance</td>\n    </tr>\n    <tr>\n      <th>4</th>\n      <td>5</td>\n      <td>Father of the Bride Part II (1995)</td>\n      <td>comedy</td>\n    </tr>\n  </tbody>\n</table>\n</div>"
     },
     "metadata": {},
     "execution_count": 11
    }
   ],
   "source": [
    "movies_bag.head()"
   ]
  },
  {
   "cell_type": "code",
   "execution_count": 14,
   "metadata": {},
   "outputs": [],
   "source": [
    "titanic = movies_bag[\"bag_of_words\"].where(movies_bag['movie_id'] == 1721)"
   ]
  },
  {
   "cell_type": "code",
   "execution_count": 19,
   "metadata": {},
   "outputs": [
    {
     "output_type": "stream",
     "name": "stdout",
     "text": [
      "drama romance jamescameron katewinslet leonardodicaprio nudity(topless-notable) nudity(topless) oscar(bestcinematography) oscar(bestdirecting) oscar(bestpicture) atmospheric basedonatruestory bittersweet catastrophe chickflick disaster drama epic historical love lovestory music overrated periodpiece realistic romance romantic sadending sentimental shipwreck survival timetravel truestory\n"
     ]
    }
   ],
   "source": [
    "print(movies_bag['bag_of_words'][1655])"
   ]
  },
  {
   "cell_type": "code",
   "execution_count": 8,
   "metadata": {},
   "outputs": [
    {
     "output_type": "error",
     "ename": "KeyboardInterrupt",
     "evalue": "",
     "traceback": [
      "\u001b[0;31m---------------------------------------------------------------------------\u001b[0m",
      "\u001b[0;31mKeyboardInterrupt\u001b[0m                         Traceback (most recent call last)",
      "\u001b[0;32m<ipython-input-8-ef39040bb0e2>\u001b[0m in \u001b[0;36m<module>\u001b[0;34m\u001b[0m\n\u001b[1;32m      2\u001b[0m \u001b[0;32mfor\u001b[0m \u001b[0mindex\u001b[0m\u001b[0;34m,\u001b[0m \u001b[0mrow\u001b[0m \u001b[0;32min\u001b[0m \u001b[0mtags\u001b[0m\u001b[0;34m.\u001b[0m\u001b[0miterrows\u001b[0m\u001b[0;34m(\u001b[0m\u001b[0;34m)\u001b[0m\u001b[0;34m:\u001b[0m\u001b[0;34m\u001b[0m\u001b[0;34m\u001b[0m\u001b[0m\n\u001b[1;32m      3\u001b[0m     \u001b[0mtag_converted\u001b[0m \u001b[0;34m=\u001b[0m \u001b[0mrow\u001b[0m\u001b[0;34m[\u001b[0m\u001b[0;34m'tag'\u001b[0m\u001b[0;34m]\u001b[0m\u001b[0;34m.\u001b[0m\u001b[0mlower\u001b[0m\u001b[0;34m(\u001b[0m\u001b[0;34m)\u001b[0m\u001b[0;34m.\u001b[0m\u001b[0mreplace\u001b[0m\u001b[0;34m(\u001b[0m\u001b[0;34m\" \"\u001b[0m\u001b[0;34m,\u001b[0m \u001b[0;34m\"\"\u001b[0m\u001b[0;34m)\u001b[0m\u001b[0;34m\u001b[0m\u001b[0;34m\u001b[0m\u001b[0m\n\u001b[0;32m----> 4\u001b[0;31m     \u001b[0mtags\u001b[0m\u001b[0;34m.\u001b[0m\u001b[0miloc\u001b[0m\u001b[0;34m[\u001b[0m\u001b[0mindex\u001b[0m\u001b[0;34m,\u001b[0m \u001b[0;36m1\u001b[0m\u001b[0;34m]\u001b[0m \u001b[0;34m=\u001b[0m \u001b[0mtag_converted\u001b[0m\u001b[0;34m\u001b[0m\u001b[0;34m\u001b[0m\u001b[0m\n\u001b[0m\u001b[1;32m      5\u001b[0m \u001b[0;34m\u001b[0m\u001b[0m\n\u001b[1;32m      6\u001b[0m \u001b[0mtags\u001b[0m\u001b[0;34m.\u001b[0m\u001b[0mhead\u001b[0m\u001b[0;34m(\u001b[0m\u001b[0;34m)\u001b[0m\u001b[0;34m\u001b[0m\u001b[0;34m\u001b[0m\u001b[0m\n",
      "\u001b[0;32m/opt/miniconda3/lib/python3.7/site-packages/pandas/core/indexing.py\u001b[0m in \u001b[0;36m__setitem__\u001b[0;34m(self, key, value)\u001b[0m\n\u001b[1;32m    690\u001b[0m \u001b[0;34m\u001b[0m\u001b[0m\n\u001b[1;32m    691\u001b[0m         \u001b[0miloc\u001b[0m \u001b[0;34m=\u001b[0m \u001b[0mself\u001b[0m \u001b[0;32mif\u001b[0m \u001b[0mself\u001b[0m\u001b[0;34m.\u001b[0m\u001b[0mname\u001b[0m \u001b[0;34m==\u001b[0m \u001b[0;34m\"iloc\"\u001b[0m \u001b[0;32melse\u001b[0m \u001b[0mself\u001b[0m\u001b[0;34m.\u001b[0m\u001b[0mobj\u001b[0m\u001b[0;34m.\u001b[0m\u001b[0miloc\u001b[0m\u001b[0;34m\u001b[0m\u001b[0;34m\u001b[0m\u001b[0m\n\u001b[0;32m--> 692\u001b[0;31m         \u001b[0miloc\u001b[0m\u001b[0;34m.\u001b[0m\u001b[0m_setitem_with_indexer\u001b[0m\u001b[0;34m(\u001b[0m\u001b[0mindexer\u001b[0m\u001b[0;34m,\u001b[0m \u001b[0mvalue\u001b[0m\u001b[0;34m,\u001b[0m \u001b[0mself\u001b[0m\u001b[0;34m.\u001b[0m\u001b[0mname\u001b[0m\u001b[0;34m)\u001b[0m\u001b[0;34m\u001b[0m\u001b[0;34m\u001b[0m\u001b[0m\n\u001b[0m\u001b[1;32m    693\u001b[0m \u001b[0;34m\u001b[0m\u001b[0m\n\u001b[1;32m    694\u001b[0m     \u001b[0;32mdef\u001b[0m \u001b[0m_validate_key\u001b[0m\u001b[0;34m(\u001b[0m\u001b[0mself\u001b[0m\u001b[0;34m,\u001b[0m \u001b[0mkey\u001b[0m\u001b[0;34m,\u001b[0m \u001b[0maxis\u001b[0m\u001b[0;34m:\u001b[0m \u001b[0mint\u001b[0m\u001b[0;34m)\u001b[0m\u001b[0;34m:\u001b[0m\u001b[0;34m\u001b[0m\u001b[0;34m\u001b[0m\u001b[0m\n",
      "\u001b[0;32m/opt/miniconda3/lib/python3.7/site-packages/pandas/core/indexing.py\u001b[0m in \u001b[0;36m_setitem_with_indexer\u001b[0;34m(self, indexer, value, name)\u001b[0m\n\u001b[1;32m   1633\u001b[0m         \u001b[0;32mif\u001b[0m \u001b[0mtake_split_path\u001b[0m\u001b[0;34m:\u001b[0m\u001b[0;34m\u001b[0m\u001b[0;34m\u001b[0m\u001b[0m\n\u001b[1;32m   1634\u001b[0m             \u001b[0;31m# We have to operate column-wise\u001b[0m\u001b[0;34m\u001b[0m\u001b[0;34m\u001b[0m\u001b[0;34m\u001b[0m\u001b[0m\n\u001b[0;32m-> 1635\u001b[0;31m             \u001b[0mself\u001b[0m\u001b[0;34m.\u001b[0m\u001b[0m_setitem_with_indexer_split_path\u001b[0m\u001b[0;34m(\u001b[0m\u001b[0mindexer\u001b[0m\u001b[0;34m,\u001b[0m \u001b[0mvalue\u001b[0m\u001b[0;34m,\u001b[0m \u001b[0mname\u001b[0m\u001b[0;34m)\u001b[0m\u001b[0;34m\u001b[0m\u001b[0;34m\u001b[0m\u001b[0m\n\u001b[0m\u001b[1;32m   1636\u001b[0m         \u001b[0;32melse\u001b[0m\u001b[0;34m:\u001b[0m\u001b[0;34m\u001b[0m\u001b[0;34m\u001b[0m\u001b[0m\n\u001b[1;32m   1637\u001b[0m             \u001b[0mself\u001b[0m\u001b[0;34m.\u001b[0m\u001b[0m_setitem_single_block\u001b[0m\u001b[0;34m(\u001b[0m\u001b[0mindexer\u001b[0m\u001b[0;34m,\u001b[0m \u001b[0mvalue\u001b[0m\u001b[0;34m,\u001b[0m \u001b[0mname\u001b[0m\u001b[0;34m)\u001b[0m\u001b[0;34m\u001b[0m\u001b[0;34m\u001b[0m\u001b[0m\n",
      "\u001b[0;32m/opt/miniconda3/lib/python3.7/site-packages/pandas/core/indexing.py\u001b[0m in \u001b[0;36m_setitem_with_indexer_split_path\u001b[0;34m(self, indexer, value, name)\u001b[0m\n\u001b[1;32m   1718\u001b[0m             \u001b[0;31m# scalar value\u001b[0m\u001b[0;34m\u001b[0m\u001b[0;34m\u001b[0m\u001b[0;34m\u001b[0m\u001b[0m\n\u001b[1;32m   1719\u001b[0m             \u001b[0;32mfor\u001b[0m \u001b[0mloc\u001b[0m \u001b[0;32min\u001b[0m \u001b[0milocs\u001b[0m\u001b[0;34m:\u001b[0m\u001b[0;34m\u001b[0m\u001b[0;34m\u001b[0m\u001b[0m\n\u001b[0;32m-> 1720\u001b[0;31m                 \u001b[0mself\u001b[0m\u001b[0;34m.\u001b[0m\u001b[0m_setitem_single_column\u001b[0m\u001b[0;34m(\u001b[0m\u001b[0mloc\u001b[0m\u001b[0;34m,\u001b[0m \u001b[0mvalue\u001b[0m\u001b[0;34m,\u001b[0m \u001b[0mpi\u001b[0m\u001b[0;34m)\u001b[0m\u001b[0;34m\u001b[0m\u001b[0;34m\u001b[0m\u001b[0m\n\u001b[0m\u001b[1;32m   1721\u001b[0m \u001b[0;34m\u001b[0m\u001b[0m\n\u001b[1;32m   1722\u001b[0m     \u001b[0;32mdef\u001b[0m \u001b[0m_setitem_with_indexer_2d_value\u001b[0m\u001b[0;34m(\u001b[0m\u001b[0mself\u001b[0m\u001b[0;34m,\u001b[0m \u001b[0mindexer\u001b[0m\u001b[0;34m,\u001b[0m \u001b[0mvalue\u001b[0m\u001b[0;34m)\u001b[0m\u001b[0;34m:\u001b[0m\u001b[0;34m\u001b[0m\u001b[0;34m\u001b[0m\u001b[0m\n",
      "\u001b[0;32m/opt/miniconda3/lib/python3.7/site-packages/pandas/core/indexing.py\u001b[0m in \u001b[0;36m_setitem_single_column\u001b[0;34m(self, loc, value, plane_indexer)\u001b[0m\n\u001b[1;32m   1815\u001b[0m \u001b[0;34m\u001b[0m\u001b[0m\n\u001b[1;32m   1816\u001b[0m         \u001b[0;31m# reset the sliced object if unique\u001b[0m\u001b[0;34m\u001b[0m\u001b[0;34m\u001b[0m\u001b[0;34m\u001b[0m\u001b[0m\n\u001b[0;32m-> 1817\u001b[0;31m         \u001b[0mself\u001b[0m\u001b[0;34m.\u001b[0m\u001b[0mobj\u001b[0m\u001b[0;34m.\u001b[0m\u001b[0m_iset_item\u001b[0m\u001b[0;34m(\u001b[0m\u001b[0mloc\u001b[0m\u001b[0;34m,\u001b[0m \u001b[0mser\u001b[0m\u001b[0;34m)\u001b[0m\u001b[0;34m\u001b[0m\u001b[0;34m\u001b[0m\u001b[0m\n\u001b[0m\u001b[1;32m   1818\u001b[0m \u001b[0;34m\u001b[0m\u001b[0m\n\u001b[1;32m   1819\u001b[0m     \u001b[0;32mdef\u001b[0m \u001b[0m_setitem_single_block\u001b[0m\u001b[0;34m(\u001b[0m\u001b[0mself\u001b[0m\u001b[0;34m,\u001b[0m \u001b[0mindexer\u001b[0m\u001b[0;34m,\u001b[0m \u001b[0mvalue\u001b[0m\u001b[0;34m,\u001b[0m \u001b[0mname\u001b[0m\u001b[0;34m:\u001b[0m \u001b[0mstr\u001b[0m\u001b[0;34m)\u001b[0m\u001b[0;34m:\u001b[0m\u001b[0;34m\u001b[0m\u001b[0;34m\u001b[0m\u001b[0m\n",
      "\u001b[0;32m/opt/miniconda3/lib/python3.7/site-packages/pandas/core/frame.py\u001b[0m in \u001b[0;36m_iset_item\u001b[0;34m(self, loc, value)\u001b[0m\n\u001b[1;32m   3217\u001b[0m         \u001b[0;31m# technically _sanitize_column expects a label, not a position,\u001b[0m\u001b[0;34m\u001b[0m\u001b[0;34m\u001b[0m\u001b[0;34m\u001b[0m\u001b[0m\n\u001b[1;32m   3218\u001b[0m         \u001b[0;31m#  but the behavior is the same as long as we pass broadcast=False\u001b[0m\u001b[0;34m\u001b[0m\u001b[0;34m\u001b[0m\u001b[0;34m\u001b[0m\u001b[0m\n\u001b[0;32m-> 3219\u001b[0;31m         \u001b[0mvalue\u001b[0m \u001b[0;34m=\u001b[0m \u001b[0mself\u001b[0m\u001b[0;34m.\u001b[0m\u001b[0m_sanitize_column\u001b[0m\u001b[0;34m(\u001b[0m\u001b[0mloc\u001b[0m\u001b[0;34m,\u001b[0m \u001b[0mvalue\u001b[0m\u001b[0;34m,\u001b[0m \u001b[0mbroadcast\u001b[0m\u001b[0;34m=\u001b[0m\u001b[0;32mFalse\u001b[0m\u001b[0;34m)\u001b[0m\u001b[0;34m\u001b[0m\u001b[0;34m\u001b[0m\u001b[0m\n\u001b[0m\u001b[1;32m   3220\u001b[0m         \u001b[0mNDFrame\u001b[0m\u001b[0;34m.\u001b[0m\u001b[0m_iset_item\u001b[0m\u001b[0;34m(\u001b[0m\u001b[0mself\u001b[0m\u001b[0;34m,\u001b[0m \u001b[0mloc\u001b[0m\u001b[0;34m,\u001b[0m \u001b[0mvalue\u001b[0m\u001b[0;34m)\u001b[0m\u001b[0;34m\u001b[0m\u001b[0;34m\u001b[0m\u001b[0m\n\u001b[1;32m   3221\u001b[0m \u001b[0;34m\u001b[0m\u001b[0m\n",
      "\u001b[0;32m/opt/miniconda3/lib/python3.7/site-packages/pandas/core/frame.py\u001b[0m in \u001b[0;36m_sanitize_column\u001b[0;34m(self, key, value, broadcast)\u001b[0m\n\u001b[1;32m   3871\u001b[0m \u001b[0;34m\u001b[0m\u001b[0m\n\u001b[1;32m   3872\u001b[0m         \u001b[0;32mif\u001b[0m \u001b[0misinstance\u001b[0m\u001b[0;34m(\u001b[0m\u001b[0mvalue\u001b[0m\u001b[0;34m,\u001b[0m \u001b[0mSeries\u001b[0m\u001b[0;34m)\u001b[0m\u001b[0;34m:\u001b[0m\u001b[0;34m\u001b[0m\u001b[0;34m\u001b[0m\u001b[0m\n\u001b[0;32m-> 3873\u001b[0;31m             \u001b[0mvalue\u001b[0m \u001b[0;34m=\u001b[0m \u001b[0mreindexer\u001b[0m\u001b[0;34m(\u001b[0m\u001b[0mvalue\u001b[0m\u001b[0;34m)\u001b[0m\u001b[0;34m\u001b[0m\u001b[0;34m\u001b[0m\u001b[0m\n\u001b[0m\u001b[1;32m   3874\u001b[0m \u001b[0;34m\u001b[0m\u001b[0m\n\u001b[1;32m   3875\u001b[0m         \u001b[0;32melif\u001b[0m \u001b[0misinstance\u001b[0m\u001b[0;34m(\u001b[0m\u001b[0mvalue\u001b[0m\u001b[0;34m,\u001b[0m \u001b[0mDataFrame\u001b[0m\u001b[0;34m)\u001b[0m\u001b[0;34m:\u001b[0m\u001b[0;34m\u001b[0m\u001b[0;34m\u001b[0m\u001b[0m\n",
      "\u001b[0;32m/opt/miniconda3/lib/python3.7/site-packages/pandas/core/frame.py\u001b[0m in \u001b[0;36mreindexer\u001b[0;34m(value)\u001b[0m\n\u001b[1;32m   3852\u001b[0m \u001b[0;34m\u001b[0m\u001b[0m\n\u001b[1;32m   3853\u001b[0m             \u001b[0;32mif\u001b[0m \u001b[0mvalue\u001b[0m\u001b[0;34m.\u001b[0m\u001b[0mindex\u001b[0m\u001b[0;34m.\u001b[0m\u001b[0mequals\u001b[0m\u001b[0;34m(\u001b[0m\u001b[0mself\u001b[0m\u001b[0;34m.\u001b[0m\u001b[0mindex\u001b[0m\u001b[0;34m)\u001b[0m \u001b[0;32mor\u001b[0m \u001b[0;32mnot\u001b[0m \u001b[0mlen\u001b[0m\u001b[0;34m(\u001b[0m\u001b[0mself\u001b[0m\u001b[0;34m.\u001b[0m\u001b[0mindex\u001b[0m\u001b[0;34m)\u001b[0m\u001b[0;34m:\u001b[0m\u001b[0;34m\u001b[0m\u001b[0;34m\u001b[0m\u001b[0m\n\u001b[0;32m-> 3854\u001b[0;31m                 \u001b[0mvalue\u001b[0m \u001b[0;34m=\u001b[0m \u001b[0mvalue\u001b[0m\u001b[0;34m.\u001b[0m\u001b[0m_values\u001b[0m\u001b[0;34m.\u001b[0m\u001b[0mcopy\u001b[0m\u001b[0;34m(\u001b[0m\u001b[0;34m)\u001b[0m\u001b[0;34m\u001b[0m\u001b[0;34m\u001b[0m\u001b[0m\n\u001b[0m\u001b[1;32m   3855\u001b[0m             \u001b[0;32melse\u001b[0m\u001b[0;34m:\u001b[0m\u001b[0;34m\u001b[0m\u001b[0;34m\u001b[0m\u001b[0m\n\u001b[1;32m   3856\u001b[0m \u001b[0;34m\u001b[0m\u001b[0m\n",
      "\u001b[0;31mKeyboardInterrupt\u001b[0m: "
     ]
    }
   ],
   "source": [
    "# Iterrows to convert each tag to lowercase without spaces\n",
    "for index, row in tags.iterrows():\n",
    "    tag_converted = row['tag'].lower().replace(\" \", \"\")\n",
    "    tags.iloc[index, 1] = tag_converted\n",
    "\n",
    "tags.head()"
   ]
  },
  {
   "cell_type": "code",
   "execution_count": null,
   "metadata": {},
   "outputs": [],
   "source": [
    "# Now we need to combine the tags into one column based on movie_id\n",
    "\n",
    "# First create a new dataframe to store the tags and movie_ids\n",
    "tags_combined = pd.DataFrame(columns=[\"movie_id\", \"tags\"])\n",
    "tags_combined.head()"
   ]
  },
  {
   "cell_type": "code",
   "execution_count": null,
   "metadata": {},
   "outputs": [],
   "source": [
    "# Iterrows for tags df\n",
    "for index, row in tags.iterrows():\n",
    "    # Check if movie_id already exists in tags_combined\n",
    "    movie_exist = tags_combined.loc[tags_combined['movie_id']==row['movie_id'], :]\n",
    "    #movie_exist.head()\n",
    "    if movie_exist.empty:\n",
    "        # Add new movie row\n",
    "        new_row = {'movie_id': row['movie_id'], 'tags': row['tag']}\n",
    "        #print (new_row)\n",
    "        tags_combined = tags_combined.append(new_row, ignore_index=True)\n",
    "    else:\n",
    "        #print(\"Movie ID exists! Add to row\")\n",
    "        \n",
    "        # Combine tags\n",
    "        new_tags = movie_exist['tags'] + \" \" + row['tag']\n",
    "        # Update row\n",
    "        tags_combined.loc[tags_combined['movie_id']==row['movie_id'], 'tags'] = new_tags\n",
    "        \n",
    "tags_combined.head()"
   ]
  },
  {
   "cell_type": "code",
   "execution_count": 158,
   "metadata": {},
   "outputs": [],
   "source": [
    "# Finding movie_id that have distinct count of tags >= 4 (Jeremy)\n",
    "\n",
    "movie_sql_df = []\n",
    "\n",
    "for x in range(len(tags_combined)):\n",
    "    r = tags_combined['tags'][x].split(\" \")\n",
    "    if len(r) >= 2:\n",
    "       movie_sql_df.append(tags_combined['movie_id'][x])\n",
    "    else:\n",
    "        pass\n",
    "\n",
    "move_df = pd.DataFrame({\"movie_id\": movie_sql_df})"
   ]
  },
  {
   "cell_type": "code",
   "execution_count": 21,
   "metadata": {},
   "outputs": [],
   "source": [
    "# Save combined_tags to CSV\n",
    "tags_combined.to_csv(\"big_movies_csv/tags_combined.csv\", index=False)"
   ]
  },
  {
   "cell_type": "code",
   "execution_count": 24,
   "metadata": {},
   "outputs": [
    {
     "output_type": "execute_result",
     "data": {
      "text/plain": [
       "   movie_id                                        genre\n",
       "0         1  Adventure|Animation|Children|Comedy|Fantasy\n",
       "1         2                   Adventure|Children|Fantasy\n",
       "2         3                               Comedy|Romance\n",
       "3         4                         Comedy|Drama|Romance\n",
       "4         5                                       Comedy"
      ],
      "text/html": "<div>\n<style scoped>\n    .dataframe tbody tr th:only-of-type {\n        vertical-align: middle;\n    }\n\n    .dataframe tbody tr th {\n        vertical-align: top;\n    }\n\n    .dataframe thead th {\n        text-align: right;\n    }\n</style>\n<table border=\"1\" class=\"dataframe\">\n  <thead>\n    <tr style=\"text-align: right;\">\n      <th></th>\n      <th>movie_id</th>\n      <th>genre</th>\n    </tr>\n  </thead>\n  <tbody>\n    <tr>\n      <th>0</th>\n      <td>1</td>\n      <td>Adventure|Animation|Children|Comedy|Fantasy</td>\n    </tr>\n    <tr>\n      <th>1</th>\n      <td>2</td>\n      <td>Adventure|Children|Fantasy</td>\n    </tr>\n    <tr>\n      <th>2</th>\n      <td>3</td>\n      <td>Comedy|Romance</td>\n    </tr>\n    <tr>\n      <th>3</th>\n      <td>4</td>\n      <td>Comedy|Drama|Romance</td>\n    </tr>\n    <tr>\n      <th>4</th>\n      <td>5</td>\n      <td>Comedy</td>\n    </tr>\n  </tbody>\n</table>\n</div>"
     },
     "metadata": {},
     "execution_count": 24
    }
   ],
   "source": [
    "# Read genres from DB so we can merge genres with the tags\n",
    "\n",
    "genre_query = f\"select movie_id, genre from movies;\"\n",
    "\n",
    "genre = pd.read_sql(genre_query, connection)\n",
    "\n",
    "genre.head()"
   ]
  },
  {
   "cell_type": "code",
   "execution_count": 25,
   "metadata": {},
   "outputs": [
    {
     "output_type": "execute_result",
     "data": {
      "text/plain": [
       "   movie_id                                        genre\n",
       "0         1  adventure animation children comedy fantasy\n",
       "1         2                   adventure children fantasy\n",
       "2         3                               comedy romance\n",
       "3         4                         comedy drama romance\n",
       "4         5                                       comedy"
      ],
      "text/html": "<div>\n<style scoped>\n    .dataframe tbody tr th:only-of-type {\n        vertical-align: middle;\n    }\n\n    .dataframe tbody tr th {\n        vertical-align: top;\n    }\n\n    .dataframe thead th {\n        text-align: right;\n    }\n</style>\n<table border=\"1\" class=\"dataframe\">\n  <thead>\n    <tr style=\"text-align: right;\">\n      <th></th>\n      <th>movie_id</th>\n      <th>genre</th>\n    </tr>\n  </thead>\n  <tbody>\n    <tr>\n      <th>0</th>\n      <td>1</td>\n      <td>adventure animation children comedy fantasy</td>\n    </tr>\n    <tr>\n      <th>1</th>\n      <td>2</td>\n      <td>adventure children fantasy</td>\n    </tr>\n    <tr>\n      <th>2</th>\n      <td>3</td>\n      <td>comedy romance</td>\n    </tr>\n    <tr>\n      <th>3</th>\n      <td>4</td>\n      <td>comedy drama romance</td>\n    </tr>\n    <tr>\n      <th>4</th>\n      <td>5</td>\n      <td>comedy</td>\n    </tr>\n  </tbody>\n</table>\n</div>"
     },
     "metadata": {},
     "execution_count": 25
    }
   ],
   "source": [
    "# Iterrows to convert each genre to lowercase, swap | with a space\n",
    "for index, row in genre.iterrows():\n",
    "    genre_converted = row['genre'].lower().replace(\"|\", \" \")\n",
    "    genre.iloc[index, 1] = genre_converted\n",
    "    #print (index, row['genre'], genre_converted)\n",
    "    \n",
    "genre.head()"
   ]
  },
  {
   "cell_type": "code",
   "execution_count": 26,
   "metadata": {},
   "outputs": [
    {
     "output_type": "execute_result",
     "data": {
      "text/plain": [
       "   movie_id                                        genre  \\\n",
       "0         1  adventure animation children comedy fantasy   \n",
       "1         2                   adventure children fantasy   \n",
       "2         3                               comedy romance   \n",
       "3         4                         comedy drama romance   \n",
       "4         5                                       comedy   \n",
       "\n",
       "                                                tags  \n",
       "0  cartoon disney pixar timallen tomhanks adventu...  \n",
       "1  robinwilliams animals badcgi boardgame family ...  \n",
       "2                                                     \n",
       "3                                                     \n",
       "4                                                     "
      ],
      "text/html": "<div>\n<style scoped>\n    .dataframe tbody tr th:only-of-type {\n        vertical-align: middle;\n    }\n\n    .dataframe tbody tr th {\n        vertical-align: top;\n    }\n\n    .dataframe thead th {\n        text-align: right;\n    }\n</style>\n<table border=\"1\" class=\"dataframe\">\n  <thead>\n    <tr style=\"text-align: right;\">\n      <th></th>\n      <th>movie_id</th>\n      <th>genre</th>\n      <th>tags</th>\n    </tr>\n  </thead>\n  <tbody>\n    <tr>\n      <th>0</th>\n      <td>1</td>\n      <td>adventure animation children comedy fantasy</td>\n      <td>cartoon disney pixar timallen tomhanks adventu...</td>\n    </tr>\n    <tr>\n      <th>1</th>\n      <td>2</td>\n      <td>adventure children fantasy</td>\n      <td>robinwilliams animals badcgi boardgame family ...</td>\n    </tr>\n    <tr>\n      <th>2</th>\n      <td>3</td>\n      <td>comedy romance</td>\n      <td></td>\n    </tr>\n    <tr>\n      <th>3</th>\n      <td>4</td>\n      <td>comedy drama romance</td>\n      <td></td>\n    </tr>\n    <tr>\n      <th>4</th>\n      <td>5</td>\n      <td>comedy</td>\n      <td></td>\n    </tr>\n  </tbody>\n</table>\n</div>"
     },
     "metadata": {},
     "execution_count": 26
    }
   ],
   "source": [
    "# Merge genre and tags_converted on movie_id\n",
    "\n",
    "combined_df = genre.merge(tags_combined, on=\"movie_id\", how=\"outer\").fillna(\"\")\n",
    "combined_df.head()"
   ]
  },
  {
   "cell_type": "code",
   "execution_count": 27,
   "metadata": {},
   "outputs": [
    {
     "output_type": "execute_result",
     "data": {
      "text/plain": [
       "Empty DataFrame\n",
       "Columns: [movie_id, bag_of_words]\n",
       "Index: []"
      ],
      "text/html": "<div>\n<style scoped>\n    .dataframe tbody tr th:only-of-type {\n        vertical-align: middle;\n    }\n\n    .dataframe tbody tr th {\n        vertical-align: top;\n    }\n\n    .dataframe thead th {\n        text-align: right;\n    }\n</style>\n<table border=\"1\" class=\"dataframe\">\n  <thead>\n    <tr style=\"text-align: right;\">\n      <th></th>\n      <th>movie_id</th>\n      <th>bag_of_words</th>\n    </tr>\n  </thead>\n  <tbody>\n  </tbody>\n</table>\n</div>"
     },
     "metadata": {},
     "execution_count": 27
    }
   ],
   "source": [
    "# Create new bag_of_words df that combines genre and tags\n",
    "\n",
    "bag_of_words = pd.DataFrame(columns=[\"movie_id\", \"bag_of_words\"])\n",
    "bag_of_words.head()"
   ]
  },
  {
   "cell_type": "code",
   "execution_count": 28,
   "metadata": {},
   "outputs": [
    {
     "output_type": "execute_result",
     "data": {
      "text/plain": [
       "  movie_id                                       bag_of_words\n",
       "0        1  adventure animation children comedy fantasy ca...\n",
       "1        2  adventure children fantasy robinwilliams anima...\n",
       "2        3                                    comedy romance \n",
       "3        4                              comedy drama romance \n",
       "4        5                                            comedy "
      ],
      "text/html": "<div>\n<style scoped>\n    .dataframe tbody tr th:only-of-type {\n        vertical-align: middle;\n    }\n\n    .dataframe tbody tr th {\n        vertical-align: top;\n    }\n\n    .dataframe thead th {\n        text-align: right;\n    }\n</style>\n<table border=\"1\" class=\"dataframe\">\n  <thead>\n    <tr style=\"text-align: right;\">\n      <th></th>\n      <th>movie_id</th>\n      <th>bag_of_words</th>\n    </tr>\n  </thead>\n  <tbody>\n    <tr>\n      <th>0</th>\n      <td>1</td>\n      <td>adventure animation children comedy fantasy ca...</td>\n    </tr>\n    <tr>\n      <th>1</th>\n      <td>2</td>\n      <td>adventure children fantasy robinwilliams anima...</td>\n    </tr>\n    <tr>\n      <th>2</th>\n      <td>3</td>\n      <td>comedy romance</td>\n    </tr>\n    <tr>\n      <th>3</th>\n      <td>4</td>\n      <td>comedy drama romance</td>\n    </tr>\n    <tr>\n      <th>4</th>\n      <td>5</td>\n      <td>comedy</td>\n    </tr>\n  </tbody>\n</table>\n</div>"
     },
     "metadata": {},
     "execution_count": 28
    }
   ],
   "source": [
    "# Iterrows for combined_df\n",
    "for index, row in combined_df.iterrows():\n",
    "    # Combine genre and tags\n",
    "    bag = row['genre'] + \" \" + row['tags']\n",
    "    \n",
    "    new_row = {'movie_id': row['movie_id'], 'bag_of_words': bag}\n",
    "    \n",
    "    # Append row\n",
    "    bag_of_words = bag_of_words.append(new_row, ignore_index=True)\n",
    "        \n",
    "bag_of_words.head()"
   ]
  },
  {
   "cell_type": "code",
   "execution_count": 29,
   "metadata": {},
   "outputs": [],
   "source": [
    "# Save bag_of_words to CSV\n",
    "bag_of_words.to_csv(\"big_movies_csv/bag_of_words.csv\", index=False)"
   ]
  },
  {
   "cell_type": "code",
   "execution_count": 30,
   "metadata": {},
   "outputs": [
    {
     "output_type": "execute_result",
     "data": {
      "text/plain": [
       "   movie_id                               title\n",
       "0         1                    Toy Story (1995)\n",
       "1         2                      Jumanji (1995)\n",
       "2         3             Grumpier Old Men (1995)\n",
       "3         4            Waiting to Exhale (1995)\n",
       "4         5  Father of the Bride Part II (1995)"
      ],
      "text/html": "<div>\n<style scoped>\n    .dataframe tbody tr th:only-of-type {\n        vertical-align: middle;\n    }\n\n    .dataframe tbody tr th {\n        vertical-align: top;\n    }\n\n    .dataframe thead th {\n        text-align: right;\n    }\n</style>\n<table border=\"1\" class=\"dataframe\">\n  <thead>\n    <tr style=\"text-align: right;\">\n      <th></th>\n      <th>movie_id</th>\n      <th>title</th>\n    </tr>\n  </thead>\n  <tbody>\n    <tr>\n      <th>0</th>\n      <td>1</td>\n      <td>Toy Story (1995)</td>\n    </tr>\n    <tr>\n      <th>1</th>\n      <td>2</td>\n      <td>Jumanji (1995)</td>\n    </tr>\n    <tr>\n      <th>2</th>\n      <td>3</td>\n      <td>Grumpier Old Men (1995)</td>\n    </tr>\n    <tr>\n      <th>3</th>\n      <td>4</td>\n      <td>Waiting to Exhale (1995)</td>\n    </tr>\n    <tr>\n      <th>4</th>\n      <td>5</td>\n      <td>Father of the Bride Part II (1995)</td>\n    </tr>\n  </tbody>\n</table>\n</div>"
     },
     "metadata": {},
     "execution_count": 30
    }
   ],
   "source": [
    "# Read movie title from DB so we can separate title from year, then merge with bag_of_words\n",
    "\n",
    "movie_query = f\"select movie_id, title from movies;\"\n",
    "\n",
    "movies = pd.read_sql(movie_query, connection)\n",
    "\n",
    "movies.head()"
   ]
  },
  {
   "cell_type": "code",
   "execution_count": 31,
   "metadata": {},
   "outputs": [
    {
     "output_type": "execute_result",
     "data": {
      "text/plain": [
       "   movie_id                               title  \\\n",
       "0         1                    Toy Story (1995)   \n",
       "1         2                      Jumanji (1995)   \n",
       "2         3             Grumpier Old Men (1995)   \n",
       "3         4            Waiting to Exhale (1995)   \n",
       "4         5  Father of the Bride Part II (1995)   \n",
       "\n",
       "                                        bag_of_words  \n",
       "0  adventure animation children comedy fantasy ca...  \n",
       "1  adventure children fantasy robinwilliams anima...  \n",
       "2                                    comedy romance   \n",
       "3                              comedy drama romance   \n",
       "4                                            comedy   "
      ],
      "text/html": "<div>\n<style scoped>\n    .dataframe tbody tr th:only-of-type {\n        vertical-align: middle;\n    }\n\n    .dataframe tbody tr th {\n        vertical-align: top;\n    }\n\n    .dataframe thead th {\n        text-align: right;\n    }\n</style>\n<table border=\"1\" class=\"dataframe\">\n  <thead>\n    <tr style=\"text-align: right;\">\n      <th></th>\n      <th>movie_id</th>\n      <th>title</th>\n      <th>bag_of_words</th>\n    </tr>\n  </thead>\n  <tbody>\n    <tr>\n      <th>0</th>\n      <td>1</td>\n      <td>Toy Story (1995)</td>\n      <td>adventure animation children comedy fantasy ca...</td>\n    </tr>\n    <tr>\n      <th>1</th>\n      <td>2</td>\n      <td>Jumanji (1995)</td>\n      <td>adventure children fantasy robinwilliams anima...</td>\n    </tr>\n    <tr>\n      <th>2</th>\n      <td>3</td>\n      <td>Grumpier Old Men (1995)</td>\n      <td>comedy romance</td>\n    </tr>\n    <tr>\n      <th>3</th>\n      <td>4</td>\n      <td>Waiting to Exhale (1995)</td>\n      <td>comedy drama romance</td>\n    </tr>\n    <tr>\n      <th>4</th>\n      <td>5</td>\n      <td>Father of the Bride Part II (1995)</td>\n      <td>comedy</td>\n    </tr>\n  </tbody>\n</table>\n</div>"
     },
     "metadata": {},
     "execution_count": 31
    }
   ],
   "source": [
    "# Merge movies and bag_of_words on movie_id\n",
    "\n",
    "movies_bag = movies.merge(bag_of_words, on=\"movie_id\", how=\"outer\").fillna(\"\")\n",
    "movies_bag.head()"
   ]
  },
  {
   "cell_type": "code",
   "execution_count": 32,
   "metadata": {},
   "outputs": [],
   "source": [
    "# Save movies_bag to CSV\n",
    "movies_bag.to_csv(\"big_movies_csv/movies_bag.csv\", index=False)"
   ]
  },
  {
   "cell_type": "markdown",
   "metadata": {},
   "source": [
    "## Split the title and year"
   ]
  },
  {
   "cell_type": "code",
   "execution_count": 33,
   "metadata": {},
   "outputs": [
    {
     "output_type": "execute_result",
     "data": {
      "text/plain": [
       "Empty DataFrame\n",
       "Columns: [movie_id, title, year]\n",
       "Index: []"
      ],
      "text/html": "<div>\n<style scoped>\n    .dataframe tbody tr th:only-of-type {\n        vertical-align: middle;\n    }\n\n    .dataframe tbody tr th {\n        vertical-align: top;\n    }\n\n    .dataframe thead th {\n        text-align: right;\n    }\n</style>\n<table border=\"1\" class=\"dataframe\">\n  <thead>\n    <tr style=\"text-align: right;\">\n      <th></th>\n      <th>movie_id</th>\n      <th>title</th>\n      <th>year</th>\n    </tr>\n  </thead>\n  <tbody>\n  </tbody>\n</table>\n</div>"
     },
     "metadata": {},
     "execution_count": 33
    }
   ],
   "source": [
    "# Create new movie_year df so we can split title and year\n",
    "\n",
    "movie_year = pd.DataFrame(columns=[\"movie_id\", \"title\", \"year\"])\n",
    "movie_year.head()"
   ]
  },
  {
   "cell_type": "code",
   "execution_count": 34,
   "metadata": {},
   "outputs": [],
   "source": [
    "# Import regular expression because there are titles with (words) in the name and we need to make sure \n",
    "# we split it at (year)\n",
    "import re"
   ]
  },
  {
   "cell_type": "code",
   "execution_count": 35,
   "metadata": {},
   "outputs": [
    {
     "output_type": "stream",
     "name": "stdout",
     "text": [
      "No year for Skokie (1981)\n",
      "No year for Deadly Advice(1994)\n",
      "No year for Millions Game, The (Das Millionenspiel)\n",
      "No year for Me and the Colonel (1958)\n",
      "No year for On the Double (1961)\n",
      "No year for Here Comes Peter Cottontail (1971)\n",
      "No year for Enchanted World of Danny Kaye: The Emperor's New Clothes, The (1972)\n",
      "No year for Terrible Joe Moran\n",
      "No year for The Court-Martial of Jackie Robinson\n",
      "No year for In Our Garden\n",
      "No year for Stephen Fry In America - New World\n",
      "No year for Two: The Story of Roman & Nyro\n",
      "No year for A Year Along the Abandoned Road\n",
      "No year for Body/Cialo\n",
      "No year for Polskie gówno\n",
      "No year for The Third Reich: The Rise & Fall\n",
      "No year for La vendetta dei barbari\n",
      "No year for My Own Man\n",
      "No year for Moving Alan\n",
      "No year for Zone 261\n",
      "No year for Michael Laudrup - en Fodboldspiller\n",
      "No year for Honky\n",
      "No year for Blueberry Hill\n",
      "No year for Pleasure Palace\n",
      "No year for Terror on the 40th Floor\n",
      "No year for My Boyfriend's Back\n",
      "No year for One Night Only\n",
      "No year for Doli Saja Ke Rakhna\n",
      "No year for The Dead Lands\n",
      "No year for C'mon, Let's Live a Little\n",
      "No year for For a Book of Dollars\n",
      "No year for Twins from Texas\n",
      "No year for Señorita Justice\n",
      "No year for Flash and Firecat\n",
      "No year for Red Victoria\n",
      "No year for Vaastupurush\n",
      "No year for Sierra Leone's Refugee All Stars\n",
      "No year for L'uomo della carità\n",
      "No year for The Big Fall\n",
      "No year for Wolves In The Snow\n",
      "No year for Amazon Falls\n",
      "No year for Dark Tides\n",
      "No year for The Ritual\n",
      "No year for The Expedition\n",
      "No year for Chinese Boxes\n",
      "No year for Danielův svět\n",
      "No year for The Near Room\n",
      "No year for Filmage: The Story of Descendents/All\n",
      "No year for About Sarah\n",
      "No year for La steppa\n",
      "No year for Swallows and Amazons\n",
      "No year for Ready Player One\n",
      "No year for Los tontos y los estúpidos\n",
      "No year for Ride in a Pink Car\n",
      "No year for Disaster Playground\n",
      "No year for Nice Guy\n",
      "No year for OMG, I'm a Robot!\n",
      "No year for KillerSaurus\n",
      "No year for Viva\n",
      "No year for Ollaan vapaita\n",
      "No year for Hyena Road\n",
      "No year for Asphalt Angels\n",
      "No year for Fakta Ladh Mhana\n",
      "No year for Man Crazy\n",
      "No year for Roger la Honte\n",
      "No year for Sentimentalnyy roman\n",
      "No year for Yedyanchi Jatra\n",
      "No year for Dhadakebaaz\n",
      "No year for Ittefaq\n",
      "No year for Elämältä kaiken sain\n",
      "No year for Dil Kya Kare\n",
      "No year for Hogi Pyar Ki Jeet\n",
      "No year for Monk by Blood\n",
      "No year for I Am Syd Stone\n",
      "No year for Alone With People\n",
      "No year for Proibito Rubare - Luigi Comencini\n",
      "No year for Le strelle nel fosso\n",
      "No year for 38 Parrots\n",
      "No year for The Adventures of Sherlock Holmes and Doctor Watson\n",
      "No year for Amigo Undead\n",
      "No year for The Republic \n",
      "No year for A Dark Place Inside\n",
      "No year for Ουζερί Τσιτσάνης\n",
      "No year for She Who Must Burn\n",
      "No year for A Fare to Remember\n",
      "No year for The Code\n",
      "No year for Unlocking the Cage\n",
      "No year for Nocturnal Animals\n",
      "No year for Trophy Kids\n",
      "No year for 101次求婚\n",
      "No year for S: Saigo no Keikan - Dakkan: Recovery of Our Future\n",
      "No year for The Frog Prince\n",
      "No year for Vrijdag\n",
      "No year for Aimy in a Cage\n",
      "No year for Jasne Błękitne Okna\n",
      "No year for Mr. Kuka's Advice\n",
      "No year for The Lovers and the Despot\n",
      "No year for Beauty and the Breast\n",
      "No year for Hundra\n",
      "No year for Holy Hell\n",
      "No year for Veljet\n",
      "No year for Pyaar Tune Kya Kiya\n",
      "No year for Vous êtes très jolie, mademoiselle\n",
      "No year for Main Madhuri Dixit Banna Chahti Hoon!\n",
      "No year for Dhund: The Fog\n",
      "No year for The Grave Digger\n",
      "No year for Vaastu Shastra\n",
      "No year for Vergeef me\n",
      "No year for Vogelfrei\n",
      "No year for Jew Like Me\n",
      "No year for Langer Licht\n",
      "No year for Family Film\n",
      "No year for Normaal: Ik Kom Altied Weer Terug\n",
      "No year for Recto / verso\n",
      "No year for Sins of the mind\n",
      "No year for Kshanam\n",
      "No year for Pawn's Move\n",
      "No year for If These Knishes Could Talk: The Story of the NY Accent\n",
      "No year for Mapplethorpe: Look at the Pictures\n",
      "No year for The Twin Girls of Sunset Street\n",
      "No year for Absent Minded\n",
      "No year for Paterson\n",
      "No year for The Kid from Broken Gun\n",
      "No year for .hack Liminality: In the Case of Mai Minase\n",
      "No year for .hack Liminality In the Case of Yuki Aihara\n",
      "No year for .hack Liminality In the Case of Kyoko Tohno\n",
      "No year for Citizen King\n",
      "No year for The Monkey King the Legend Begins\n",
      "No year for Anybody's Son Will Do\n",
      "No year for The Identity Theft of Mitch Mustain\n",
      "No year for 6A\n",
      "No year for The Serious Game\n",
      "No year for Fant\n",
      "No year for It's Only Money\n",
      "No year for Freedom\n",
      "No year for Back Home\n",
      "No year for After Eden\n",
      "No year for DEAD RISING : ENDGAME\n",
      "No year for Friends and Romans\n",
      "No year for Poor Devil\n",
      "No year for They Will Have To Kill Us First\n",
      "No year for Eat That Question: Frank Zappa in His Own Words\n",
      "No year for Presenting Princess Shaw\n",
      "No year for The Miki Howard Story\n",
      "No year for Digital Dharma\n",
      "No year for Tibetana\n",
      "No year for Gleason\n",
      "No year for Bazodee\n",
      "No year for El Bosco, el jardín de los sueños\n",
      "No year for Moonlight\n",
      "No year for California Winter\n",
      "No year for The Houses Are Full of Smoke\n",
      "No year for The Last Gold\n",
      "No year for The Wounded Angel\n",
      "No year for Scott Hall: Living on a Razor's Edge\n",
      "No year for Bad Dad Rehab\n",
      "No year for A Lovasíjász\n",
      "No year for MamaBoy\n",
      "No year for The Space Between\n",
      "No year for El pejesapo\n",
      "No year for Lo Sound Desert\n",
      "No year for Set the Thames on Fire\n",
      "No year for Dugma: The Button\n",
      "No year for Amber Alert\n",
      "No year for Pad Yatra: A Green Odyssey\n",
      "No year for The Adventures of Cinderella's Daughter\n",
      "No year for Always Faithful\n",
      "No year for Angel Has Fallen\n",
      "No year for Exchange\n",
      "No year for Rodnye (Close Relations)\n",
      "No year for Allende en su laberinto\n",
      "No year for Dvadtsat shest dney iz zhizni Dostoevskogo\n",
      "No year for Dönersen Islık Çal\n",
      "No year for Uno: The Movie\n",
      "No year for The Women's Balcony\n",
      "No year for Ulvova Mylläri\n",
      "No year for Dolpo Tulku - Heimkehr in den Himalaya\n",
      "No year for The OA\n",
      "No year for Freedom Road\n",
      "No year for Hitler's Olympics\n",
      "No year for Science Fiction Volume One: The Osiris Child\n",
      "No year for Bienvenido a Veraz\n",
      "No year for Invention of Trust\n",
      "No year for Secret Places\n",
      "No year for Abbey Grace\n",
      "No year for Third Guest\n",
      "No year for American Sharia\n",
      "No year for Red Wine in the Dark Night\n",
      "No year for Winning Favour\n",
      "No year for Whn the day had no name\n",
      "No year for The Glass Castle\n",
      "No year for Blindpassasjer\n",
      "No year for The Lost World of Communism\n",
      "No year for Sequence Break\n",
      "No year for 13 reasons why\n",
      "No year for Jedi Junior High\n",
      "No year for Cosmos\n",
      "No year for Unspeakable Horrors: The Plan 9 Conspiracy\n",
      "No year for Maria Bamford: Old Baby\n",
      "No year for Wet and Reckless\n",
      "No year for Generation Iron 2\n",
      "No year for Irwin & Fran 2013\n",
      "No year for Shivering Trunks\n",
      "No year for Supermassive Black Holes\n",
      "No year for Игра на выбывание\n",
      "No year for Falling Skies\n",
      "No year for Neither Wolf Nor Dog\n",
      "No year for Philosophy: A Guide to Happiness\n",
      "No year for Genesis\n",
      "No year for I'm Not Here\n",
      "No year for A Gray State\n",
      "No year for Salad Fingers\n",
      "No year for Le Ride\n",
      "No year for Mundo Cão\n",
      "No year for Selling God\n",
      "No year for Elián\n",
      "No year for The Garden of Afflictions 2017\n",
      "No year for Abduction\n",
      "No year for Engineering Red\n",
      "No year for S.W.A.T.: Under Siege\n",
      "No year for All Superheroes Must Die 2: The Last Superhero\n",
      "No year for The Misadventures of Rick and Morty\n",
      "No year for Lauri Mäntyvaaran tuuheet ripset\n",
      "No year for Aprel\n",
      "No year for Subdue\n",
      "No year for Black Mirror\n",
      "No year for What the Waters Left Behind\n",
      "No year for Ascent to Hell\n",
      "No year for Supercon\n",
      "No year for In Search of Fellini\n",
      "No year for Checkmate\n",
      "No year for With love\n",
      "No year for The Stone\n",
      "No year for Bigfoot in Europe: Sasquatch Encounters Abroad\n",
      "No year for The Wayward Sun\n",
      "No year for Abd El-Kader\n",
      "No year for BlueGreen\n",
      "No year for El Superstar\n",
      "No year for I Am The Queen\n",
      "No year for Injecting Aluminum\n",
      "No year for Palestine Blues\n",
      "No year for Pururambo\n",
      "No year for Sprawling from Grace\n",
      "No year for Teen a Go Go: A Little Film About Rock and Roll History\n",
      "No year for Vilaieha\n",
      "No year for The Lost City of Cecil B. DeMille\n",
      "No year for Slumber\n",
      "No year for Koudelka Shooting Holy Land\n",
      "No year for The Book of Birdie\n",
      "No year for Clementina\n",
      "No year for My Brother Khosrow\n",
      "No year for Samadhi Part 1: Maya, the Illusion of the Self\n",
      "No year for Doing time, Doing Vipassana\n",
      "No year for Going for Broke\n",
      "No year for Gutboy: A Badtime Story\n",
      "No year for Kickoff\n",
      "No year for S.M.A.R.T. Chase\n",
      "No year for The End?\n",
      "No year for 3rd Night\n",
      "No year for Mountain Fever\n",
      "No year for Trauma\n",
      "No year for Rigoletto\n",
      "No year for Nebraska Supersonic\n",
      "No year for Prosta historia o miłości\n",
      "No year for Felix, Net i Nika oraz teoretycznie możliwa katastrofa\n",
      "No year for Inside John Lennon - Unauthorized\n",
      "No year for Frangi\n",
      "No year for Inoperable\n",
      "No year for به نام پدر\n",
      "No year for A Miracle on Christmas Lake\n",
      "No year for No Ordinary Hero: The SuperDeafy Movie\n",
      "No year for Cosmos: A Spacetime Odissey\n",
      "No year for Rooster: Spurs of Death!\n",
      "No year for Начальник\n",
      "No year for The Moors Murders\n",
      "No year for Harvest\n",
      "No year for Basmati Blues\n",
      "No year for The Favourite\n",
      "No year for Terminal\n",
      "No year for Functional Fitness\n",
      "No year for Made in Italy\n",
      "No year for NOFX Backstage Passport 2\n",
      "No year for Heroine\n",
      "No year for An Hour Behind\n",
      "No year for A Grim Becoming\n",
      "No year for The Body Tree\n",
      "No year for Seat 25\n",
      "No year for The Contender\n",
      "No year for Zero\n",
      "No year for MisLead: America's Secret Epidemic\n",
      "No year for Sensitive: The Untold Story\n",
      "No year for Scott and Sid\n",
      "No year for Taco Shop\n",
      "No year for Fort Maria\n",
      "No year for Secrets in the Fall\n",
      "No year for Anthony Joshua: The Road to Klitschko\n",
      "No year for No. 1 Chung Ying Street\n",
      "No year for Diamond Dogs\n",
      "No year for The Death & Life of John F. Donovan\n",
      "No year for Sanctuary\n",
      "No year for The Factory\n",
      "No year for Higher Power\n",
      "No year for Always at The Carlyle\n",
      "No year for When Bette Met Mae\n",
      "No year for Witch-Hunt\n",
      "No year for Bubblegum\n",
      "No year for Class Reunion 2: A Wedding and a Funeral\n",
      "No year for Derrick J's Victimless Crime Spree\n",
      "No year for Veras Mantel\n",
      "No year for The Doctor From India\n",
      "No year for Tau\n",
      "No year for The Greenhorns\n",
      "No year for Inheritance\n",
      "No year for The Death of Superman\n",
      "No year for Formentera Lady\n",
      "No year for The Midnighters\n",
      "No year for Mara\n",
      "No year for A Triumph of the Heart: The Ricky Bell Story\n",
      "No year for Tell Me Your Name\n",
      "No year for Poor Boy\n",
      "No year for En Busca del Muñeco Perdido\n",
      "No year for Rich Man, Poor Woman in New York\n",
      "No year for New Neighbors, Old Fights\n",
      "No year for Lottery\n",
      "No year for Since\n",
      "No year for His Last Vow\n",
      "No year for Nakimushi Shottan no Kiseki\n",
      "No year for Undercity\n",
      "No year for Dansa först\n",
      "No year for Ctrl+Alt+Dance\n",
      "No year for The Sign of Three\n",
      "No year for Doubtful\n",
      "No year for Parwaaz Hai Junoon\n",
      "No year for Papi Chulo\n",
      "No year for ¿Qué te juegas?\n",
      "No year for Wall\n",
      "No year for A Kiss of Chaos\n",
      "No year for Brian Banks\n",
      "No year for Through Black Spruce\n",
      "No year for The Body\n",
      "No year for Honey Badgers: Masters of Mayhem\n",
      "No year for Территория Джа\n",
      "No year for Menneskesmuglerne\n",
      "No year for Tafanos - Killer Mosquitos\n",
      "No year for Star Wars: Dresca\n",
      "No year for Baikonur, Earth\n",
      "No year for Marvel Mon Amour\n",
      "No year for Dunkles, rätselhaftes Österreich\n",
      "No year for Les Flâneries du voyant\n",
      "No year for Dalya's Other Country\n",
      "No year for The Storyteller\n",
      "No year for Grand Unified Theory\n",
      "No year for The Indecent Family\n",
      "No year for The Zen Diaries of Garry Shandling: Parts 1 & 2\n",
      "No year for Девочки\n",
      "No year for Peshavarskiy vals\n",
      "No year for Przyjecie na 10 osob plus 3\n",
      "No year for Cradle to Grave\n",
      "No year for BÚÉK\n",
      "No year for Old Man\n",
      "No year for Scarred But Smarter: Life N Times of Drivin N Cryin\n",
      "No year for Polina\n",
      "No year for The King\n",
      "No year for The Machine Stops\n",
      "No year for Paradise Hills\n",
      "No year for The Perfect Date\n",
      "No year for Wicked\n",
      "No year for Uncharted: Drake's Fortune\n",
      "No year for The Wedding Year\n",
      "No year for A Rainy Day in New York\n",
      "No year for Pathey Holo Deri\n",
      "No year for Underneath\n",
      "No year for The Art of McCartney\n",
      "No year for Romeo Akbar Walter\n",
      "No year for The Man with Half a Body\n",
      "No year for Anatolian Trip\n",
      "No year for The Guy Who Didn't Like Musicals\n",
      "No year for A Place of Truth\n",
      "No year for Мiсто, в якому не ходять грошi\n",
      "No year for D-Day: The Total Story\n",
      "No year for Kid Brother\n",
      "No year for The Saint Lies In Wait\n",
      "No year for Kopy Kings\n",
      "No year for RWBY: Volume 5\n",
      "No year for Tenth of a Second\n",
      "No year for Time of tears\n",
      "No year for Man's First Friend\n",
      "No year for Knox: The Life and Legacy of Scotland's Controversial Reformer\n",
      "No year for Sherlock: The Blind Banker\n",
      "No year for cursor\n",
      "No year for Waiting for the Storm\n",
      "No year for Eli\n",
      "No year for In the Tall Grass\n",
      "No year for 1013 Briar Lane\n",
      "No year for Burdock\n",
      "No year for Десять минут первого\n",
      "No year for Falling Inn Love\n",
      "No year for The Fellowship of the Farmers\n",
      "No year for NOVA: Prediction by the Numbers\n",
      "No year for The Night Bulletin\n",
      "No year for Royal Shakespeare Company: The Tempest\n",
      "No year for Egy másik életben\n",
      "No year for Twice\n",
      "No year for The Black Legend of Mexican Cinema\n",
      "No year for Chef vs. Science: The Ultimate Kitchen Challenge\n",
      "No year for Hotel Camarillo\n",
      "No year for The Evil Inside\n",
      "No year for Along Came the Devil 2\n",
      "No year for Liberia: An Uncivil War\n",
      "No year for Luz\n",
      "No year for Tales of Found Footage\n",
      "No year for Enduring Destiny\n",
      "No year for Punk the Capital: Building a Sound Movement\n",
      "No year for Yosemite: The Fate of Heaven\n",
      "No year for The Falklands War: The Untold Story\n"
     ]
    },
    {
     "output_type": "execute_result",
     "data": {
      "text/plain": [
       "  movie_id                        title  year\n",
       "0        1                    Toy Story  1995\n",
       "1        2                      Jumanji  1995\n",
       "2        3             Grumpier Old Men  1995\n",
       "3        4            Waiting to Exhale  1995\n",
       "4        5  Father of the Bride Part II  1995"
      ],
      "text/html": "<div>\n<style scoped>\n    .dataframe tbody tr th:only-of-type {\n        vertical-align: middle;\n    }\n\n    .dataframe tbody tr th {\n        vertical-align: top;\n    }\n\n    .dataframe thead th {\n        text-align: right;\n    }\n</style>\n<table border=\"1\" class=\"dataframe\">\n  <thead>\n    <tr style=\"text-align: right;\">\n      <th></th>\n      <th>movie_id</th>\n      <th>title</th>\n      <th>year</th>\n    </tr>\n  </thead>\n  <tbody>\n    <tr>\n      <th>0</th>\n      <td>1</td>\n      <td>Toy Story</td>\n      <td>1995</td>\n    </tr>\n    <tr>\n      <th>1</th>\n      <td>2</td>\n      <td>Jumanji</td>\n      <td>1995</td>\n    </tr>\n    <tr>\n      <th>2</th>\n      <td>3</td>\n      <td>Grumpier Old Men</td>\n      <td>1995</td>\n    </tr>\n    <tr>\n      <th>3</th>\n      <td>4</td>\n      <td>Waiting to Exhale</td>\n      <td>1995</td>\n    </tr>\n    <tr>\n      <th>4</th>\n      <td>5</td>\n      <td>Father of the Bride Part II</td>\n      <td>1995</td>\n    </tr>\n  </tbody>\n</table>\n</div>"
     },
     "metadata": {},
     "execution_count": 35
    }
   ],
   "source": [
    "# Iterrows for movies\n",
    "for index, row in movies.iterrows():\n",
    "    # Combine genre and tags\n",
    "    to_split = row['title']\n",
    "    title_split = re.split(r'[ ](?=\\([1-2][0-9][0-9][0-9])', to_split)\n",
    "    title = title_split[0]\n",
    "    if len(title_split)>1:\n",
    "        year = title_split[1].replace(\"(\", \"\").replace(\")\", \"\") # Then strip () from string\n",
    "    else:\n",
    "        print (f\"No year for {row['title']}\")\n",
    "        year = \"\"\n",
    "    \n",
    "    new_row = {'movie_id': row['movie_id'], 'title': title, 'year': year}\n",
    "    #print(new_row)\n",
    "    \n",
    "    # Append row\n",
    "    movie_year = movie_year.append(new_row, ignore_index=True)\n",
    "    \n",
    "    #if index == 3:\n",
    "    #    break\n",
    "        \n",
    "movie_year.head()"
   ]
  },
  {
   "cell_type": "code",
   "execution_count": 36,
   "metadata": {},
   "outputs": [
    {
     "output_type": "execute_result",
     "data": {
      "text/plain": [
       "      movie_id                    title  year\n",
       "62418   209157                       We  2018\n",
       "62419   209159       Window of the Soul  2001\n",
       "62420   209163                Bad Poems  2018\n",
       "62421   209169             A Girl Thing  2001\n",
       "62422   209171  Women of Devil's Island  1962"
      ],
      "text/html": "<div>\n<style scoped>\n    .dataframe tbody tr th:only-of-type {\n        vertical-align: middle;\n    }\n\n    .dataframe tbody tr th {\n        vertical-align: top;\n    }\n\n    .dataframe thead th {\n        text-align: right;\n    }\n</style>\n<table border=\"1\" class=\"dataframe\">\n  <thead>\n    <tr style=\"text-align: right;\">\n      <th></th>\n      <th>movie_id</th>\n      <th>title</th>\n      <th>year</th>\n    </tr>\n  </thead>\n  <tbody>\n    <tr>\n      <th>62418</th>\n      <td>209157</td>\n      <td>We</td>\n      <td>2018</td>\n    </tr>\n    <tr>\n      <th>62419</th>\n      <td>209159</td>\n      <td>Window of the Soul</td>\n      <td>2001</td>\n    </tr>\n    <tr>\n      <th>62420</th>\n      <td>209163</td>\n      <td>Bad Poems</td>\n      <td>2018</td>\n    </tr>\n    <tr>\n      <th>62421</th>\n      <td>209169</td>\n      <td>A Girl Thing</td>\n      <td>2001</td>\n    </tr>\n    <tr>\n      <th>62422</th>\n      <td>209171</td>\n      <td>Women of Devil's Island</td>\n      <td>1962</td>\n    </tr>\n  </tbody>\n</table>\n</div>"
     },
     "metadata": {},
     "execution_count": 36
    }
   ],
   "source": [
    "movie_year.tail()"
   ]
  },
  {
   "cell_type": "code",
   "execution_count": 37,
   "metadata": {},
   "outputs": [
    {
     "output_type": "stream",
     "name": "stdout",
     "text": [
      "0\n"
     ]
    }
   ],
   "source": [
    "# Test\n",
    "test_string = \"Babylon 5\"\n",
    "title_split = re.split(r'[ ](?=\\([1-2][0-9][0-9][0-9])', test_string)\n",
    "title = title_split[0]\n",
    "if len(title_split)>1:\n",
    "    year = title_split[1]\n",
    "else:\n",
    "    year = 0\n",
    "print(year)"
   ]
  },
  {
   "cell_type": "code",
   "execution_count": 38,
   "metadata": {},
   "outputs": [
    {
     "output_type": "execute_result",
     "data": {
      "text/plain": [
       "   movie_id                        title  year  \\\n",
       "0         1                    Toy Story  1995   \n",
       "1         2                      Jumanji  1995   \n",
       "2         3             Grumpier Old Men  1995   \n",
       "3         4            Waiting to Exhale  1995   \n",
       "4         5  Father of the Bride Part II  1995   \n",
       "\n",
       "                                        bag_of_words  \n",
       "0  adventure animation children comedy fantasy ca...  \n",
       "1  adventure children fantasy robinwilliams anima...  \n",
       "2                                    comedy romance   \n",
       "3                              comedy drama romance   \n",
       "4                                            comedy   "
      ],
      "text/html": "<div>\n<style scoped>\n    .dataframe tbody tr th:only-of-type {\n        vertical-align: middle;\n    }\n\n    .dataframe tbody tr th {\n        vertical-align: top;\n    }\n\n    .dataframe thead th {\n        text-align: right;\n    }\n</style>\n<table border=\"1\" class=\"dataframe\">\n  <thead>\n    <tr style=\"text-align: right;\">\n      <th></th>\n      <th>movie_id</th>\n      <th>title</th>\n      <th>year</th>\n      <th>bag_of_words</th>\n    </tr>\n  </thead>\n  <tbody>\n    <tr>\n      <th>0</th>\n      <td>1</td>\n      <td>Toy Story</td>\n      <td>1995</td>\n      <td>adventure animation children comedy fantasy ca...</td>\n    </tr>\n    <tr>\n      <th>1</th>\n      <td>2</td>\n      <td>Jumanji</td>\n      <td>1995</td>\n      <td>adventure children fantasy robinwilliams anima...</td>\n    </tr>\n    <tr>\n      <th>2</th>\n      <td>3</td>\n      <td>Grumpier Old Men</td>\n      <td>1995</td>\n      <td>comedy romance</td>\n    </tr>\n    <tr>\n      <th>3</th>\n      <td>4</td>\n      <td>Waiting to Exhale</td>\n      <td>1995</td>\n      <td>comedy drama romance</td>\n    </tr>\n    <tr>\n      <th>4</th>\n      <td>5</td>\n      <td>Father of the Bride Part II</td>\n      <td>1995</td>\n      <td>comedy</td>\n    </tr>\n  </tbody>\n</table>\n</div>"
     },
     "metadata": {},
     "execution_count": 38
    }
   ],
   "source": [
    "# Merge movie_year with bag_of_words on movie_id\n",
    "\n",
    "movies_bag = movie_year.merge(bag_of_words, on=\"movie_id\", how=\"outer\").fillna(\"\")\n",
    "movies_bag.head()"
   ]
  },
  {
   "cell_type": "code",
   "execution_count": 159,
   "metadata": {},
   "outputs": [],
   "source": [
    "the_main_df = pd.merge(movies_bag, move_df, how=\"right\", on=[\"movie_id\", \"movie_id\"])\n",
    "the_main_df.to_csv(\"big_movies_csv/the_main_df.csv\", index=False)"
   ]
  },
  {
   "cell_type": "code",
   "execution_count": 57,
   "metadata": {},
   "outputs": [],
   "source": [
    "# Make sure to close the connection\n",
    "\n",
    "connection.close()"
   ]
  },
  {
   "cell_type": "code",
   "execution_count": null,
   "metadata": {},
   "outputs": [],
   "source": []
  }
 ],
 "metadata": {
  "kernelspec": {
   "display_name": "Python 3",
   "language": "python",
   "name": "python3"
  },
  "language_info": {
   "codemirror_mode": {
    "name": "ipython",
    "version": 3
   },
   "file_extension": ".py",
   "mimetype": "text/x-python",
   "name": "python",
   "nbconvert_exporter": "python",
   "pygments_lexer": "ipython3",
   "version": "3.7.7-final"
  }
 },
 "nbformat": 4,
 "nbformat_minor": 4
}