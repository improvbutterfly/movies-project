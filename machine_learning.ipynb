{
 "cells": [
  {
   "cell_type": "code",
   "execution_count": 8,
   "metadata": {},
   "outputs": [],
   "source": [
    "# Loading dependencies (pip install rake_nltk)\n",
    "\n",
    "import pandas as pd\n",
    "import numpy as np\n",
    "\n",
    "from sklearn.metrics.pairwise import cosine_similarity\n",
    "from sklearn.feature_extraction.text import CountVectorizer "
   ]
  },
  {
   "cell_type": "code",
   "execution_count": 9,
   "metadata": {},
   "outputs": [
    {
     "output_type": "execute_result",
     "data": {
      "text/plain": [
       "      movie_id           title    year  \\\n",
       "1235      4878    Donnie Darko  2001.0   \n",
       "1372      5888  Brother (Brat)  1997.0   \n",
       "3258    135137          Pixels  2015.0   \n",
       "1640      8042    Mean Streets  1973.0   \n",
       "2051     49130    Good Year, A  2006.0   \n",
       "\n",
       "                                           bag_of_words  \n",
       "1235  drama mystery sci-fi thriller boring dark jake...  \n",
       "1372                 crime drama russian crime violence  \n",
       "3258  action comedy sci-fi peterdinklage adamsandler...  \n",
       "1640  crime drama martinscorsese newyorkcity directi...  \n",
       "2051  comedy drama romance france marioncotillard li...  "
      ],
      "text/html": "<div>\n<style scoped>\n    .dataframe tbody tr th:only-of-type {\n        vertical-align: middle;\n    }\n\n    .dataframe tbody tr th {\n        vertical-align: top;\n    }\n\n    .dataframe thead th {\n        text-align: right;\n    }\n</style>\n<table border=\"1\" class=\"dataframe\">\n  <thead>\n    <tr style=\"text-align: right;\">\n      <th></th>\n      <th>movie_id</th>\n      <th>title</th>\n      <th>year</th>\n      <th>bag_of_words</th>\n    </tr>\n  </thead>\n  <tbody>\n    <tr>\n      <th>1235</th>\n      <td>4878</td>\n      <td>Donnie Darko</td>\n      <td>2001.0</td>\n      <td>drama mystery sci-fi thriller boring dark jake...</td>\n    </tr>\n    <tr>\n      <th>1372</th>\n      <td>5888</td>\n      <td>Brother (Brat)</td>\n      <td>1997.0</td>\n      <td>crime drama russian crime violence</td>\n    </tr>\n    <tr>\n      <th>3258</th>\n      <td>135137</td>\n      <td>Pixels</td>\n      <td>2015.0</td>\n      <td>action comedy sci-fi peterdinklage adamsandler...</td>\n    </tr>\n    <tr>\n      <th>1640</th>\n      <td>8042</td>\n      <td>Mean Streets</td>\n      <td>1973.0</td>\n      <td>crime drama martinscorsese newyorkcity directi...</td>\n    </tr>\n    <tr>\n      <th>2051</th>\n      <td>49130</td>\n      <td>Good Year, A</td>\n      <td>2006.0</td>\n      <td>comedy drama romance france marioncotillard li...</td>\n    </tr>\n  </tbody>\n</table>\n</div>"
     },
     "metadata": {},
     "execution_count": 9
    }
   ],
   "source": [
    "# Loading the bag of soup dataframe\n",
    "main_df = pd.read_csv(\"big_movies_csv/the_main_df.csv\")\n",
    "main_df.sample(5)\n"
   ]
  },
  {
   "cell_type": "code",
   "execution_count": 10,
   "metadata": {},
   "outputs": [
    {
     "output_type": "stream",
     "name": "stdout",
     "text": [
      "[[1.         0.38924947 0.02707652 ... 0.09534626 0.         0.        ]\n [0.38924947 1.         0.         ... 0.08164966 0.         0.        ]\n [0.02707652 0.         1.         ... 0.05679618 0.         0.14980118]\n ...\n [0.09534626 0.08164966 0.05679618 ... 1.         0.         0.13187609]\n [0.         0.         0.         ... 0.         1.         0.        ]\n [0.         0.         0.14980118 ... 0.13187609 0.         1.        ]]\n"
     ]
    }
   ],
   "source": [
    "# Turning the bag_of_words into a matrix\n",
    "\n",
    "count = CountVectorizer()\n",
    "count_matrix = count.fit_transform(main_df['bag_of_words'])\n",
    "cosine_sim = cosine_similarity(count_matrix, count_matrix)\n",
    "print(cosine_sim)"
   ]
  },
  {
   "cell_type": "code",
   "execution_count": 11,
   "metadata": {},
   "outputs": [],
   "source": [
    "# Turning title column into a series\n",
    "\n",
    "indices = pd.Series(main_df['title'])"
   ]
  },
  {
   "cell_type": "code",
   "execution_count": 12,
   "metadata": {},
   "outputs": [],
   "source": [
    "# Create the equation\n",
    "\n",
    "def recommend(title, cosine_sim = cosine_sim):\n",
    "    \n",
    "    recommended_movies = []\n",
    "    idx = indices[indices == title].index[0]\n",
    "    score_series = pd.Series(cosine_sim[idx]).sort_values(ascending = False)\n",
    "    top_10_indices = list(score_series.iloc[1:11].index)\n",
    "    \n",
    "    for i in top_10_indices:\n",
    "        recommended_movies.append(list(main_df['title'])[i])\n",
    "        \n",
    "    return recommended_movies"
   ]
  },
  {
   "cell_type": "code",
   "execution_count": 14,
   "metadata": {
    "scrolled": false
   },
   "outputs": [
    {
     "output_type": "execute_result",
     "data": {
      "text/plain": [
       "['Brazil',\n",
       " 'Solaris (Solyaris)',\n",
       " 'Moon',\n",
       " 'Sound of My Voice',\n",
       " 'Coherence',\n",
       " 'Twelve Monkeys (a.k.a. 12 Monkeys)',\n",
       " 'Soylent Green',\n",
       " 'Inception',\n",
       " 'Andromeda Strain, The',\n",
       " 'Jacket, The']"
      ]
     },
     "metadata": {},
     "execution_count": 14
    }
   ],
   "source": [
    "recommend(\"Donnie Darko\")"
   ]
  },
  {
   "cell_type": "code",
   "execution_count": null,
   "metadata": {},
   "outputs": [],
   "source": []
  }
 ],
 "metadata": {
  "kernelspec": {
   "display_name": "Python 3",
   "language": "python",
   "name": "python3"
  },
  "language_info": {
   "codemirror_mode": {
    "name": "ipython",
    "version": 3
   },
   "file_extension": ".py",
   "mimetype": "text/x-python",
   "name": "python",
   "nbconvert_exporter": "python",
   "pygments_lexer": "ipython3",
   "version": "3.7.7-final"
  }
 },
 "nbformat": 4,
 "nbformat_minor": 4
}