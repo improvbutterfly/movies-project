{
 "metadata": {
  "language_info": {
   "codemirror_mode": {
    "name": "ipython",
    "version": 3
   },
   "file_extension": ".py",
   "mimetype": "text/x-python",
   "name": "python",
   "nbconvert_exporter": "python",
   "pygments_lexer": "ipython3",
   "version": "3.7.7-final"
  },
  "orig_nbformat": 2,
  "kernelspec": {
   "name": "python3",
   "display_name": "Python 3",
   "language": "python"
  }
 },
 "nbformat": 4,
 "nbformat_minor": 2,
 "cells": [
  {
   "cell_type": "code",
   "execution_count": 6,
   "metadata": {},
   "outputs": [],
   "source": [
    "import pandas as pd\n",
    "import sqlalchemy\n",
    "from sqlalchemy import create_engine\n",
    "from config import login"
   ]
  },
  {
   "cell_type": "code",
   "execution_count": 7,
   "metadata": {},
   "outputs": [],
   "source": [
    "# Loading csv files\n",
    "\n",
    "links = pd.read_csv(\"movies_csv/links.csv\")\n",
    "movies = pd.read_csv(\"movies_csv/movies.csv\")\n",
    "ratings = pd.read_csv(\"movies_csv/ratings.csv\")\n",
    "tags = pd.read_csv(\"movies_csv/tags.csv\")"
   ]
  },
  {
   "cell_type": "code",
   "execution_count": 9,
   "metadata": {},
   "outputs": [],
   "source": [
    "# Establishing connection\n",
    "# Make sure to manually create \"movies_db\" in postgres \n",
    "\n",
    "db_url = 'postgresql://' + login + '@localhost:5432/movies_db'\n",
    "engine = create_engine(db_url)\n",
    "connection = engine.connect()"
   ]
  },
  {
   "cell_type": "code",
   "execution_count": 16,
   "metadata": {},
   "outputs": [],
   "source": [
    "# Adding csv's to postgres\n",
    "\n",
    "links.to_sql(\"links\", engine, if_exists='append', index=False)\n",
    "movies.to_sql(\"movies\", engine, if_exists='append', index=False)\n",
    "ratings.to_sql(\"ratings\", engine, if_exists='append', index=False)\n",
    "tags.to_sql(\"tags\", engine, if_exists='append', index=False)"
   ]
  },
  {
   "cell_type": "code",
   "execution_count": 17,
   "metadata": {},
   "outputs": [],
   "source": [
    "# Make sure to close the connection\n",
    "\n",
    "connection.close()"
   ]
  },
  {
   "cell_type": "code",
   "execution_count": null,
   "metadata": {},
   "outputs": [],
   "source": []
  }
 ]
}