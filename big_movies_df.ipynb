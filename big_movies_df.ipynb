{
 "metadata": {
  "language_info": {
   "codemirror_mode": {
    "name": "ipython",
    "version": 3
   },
   "file_extension": ".py",
   "mimetype": "text/x-python",
   "name": "python",
   "nbconvert_exporter": "python",
   "pygments_lexer": "ipython3",
   "version": "3.7.7-final"
  },
  "orig_nbformat": 2,
  "kernelspec": {
   "name": "python3",
   "display_name": "Python 3",
   "language": "python"
  }
 },
 "nbformat": 4,
 "nbformat_minor": 2,
 "cells": [
  {
   "cell_type": "code",
   "execution_count": 2,
   "metadata": {},
   "outputs": [],
   "source": [
    "# Import Dependencies\n",
    "\n",
    "import pandas as pd\n",
    "import sqlalchemy\n",
    "from sqlalchemy import create_engine\n",
    "from config import login\n",
    "import csv"
   ]
  },
  {
   "cell_type": "code",
   "execution_count": 29,
   "metadata": {},
   "outputs": [],
   "source": [
    "# Loading csv files from movies_csv\n",
    "\n",
    "#links = pd.read_csv(\"big_movies_csv/links.csv\")\n",
    "\n",
    "movies = pd.read_csv(\"big_movies_csv/movies.csv\")\n",
    "tags = pd.read_csv(\"big_movies_csv/tags.csv\")\n"
   ]
  },
  {
   "cell_type": "code",
   "execution_count": 14,
   "metadata": {},
   "outputs": [],
   "source": [
    "# Renaming columns (possibly not needed)\n",
    "\n",
    "#links = links.rename(columns={\"movieId\": \"movie_id\"})\n",
    "\n",
    "movies = movies.rename(columns={\"movieId\": \"movie_id\", \"genres\": \"genre\"})\n",
    "tags = tags.rename(columns={\"movieId\": \"movie_id\", \"userId\": \"user_id\"})"
   ]
  },
  {
   "cell_type": "code",
   "execution_count": 28,
   "metadata": {},
   "outputs": [],
   "source": [
    "# After formatting, send back to csv to manually upload to postgres\n",
    "\n",
    "#links.to_csv(\"big_movies_csv/links.csv\", index=False)\n",
    "\n",
    "movies.to_csv(\"big_movies_csv/movies.csv\", index=False)\n",
    "tags.to_csv(\"big_movies_csv/tags.csv\", index=False)\n"
   ]
  },
  {
   "cell_type": "code",
   "execution_count": 18,
   "metadata": {},
   "outputs": [],
   "source": [
    "# Establishing connection\n",
    "\n",
    "db_url = 'postgresql://' + login + '@localhost:5432/movie_db'\n",
    "engine = create_engine(db_url)\n",
    "connection = engine.connect()"
   ]
  },
  {
   "cell_type": "code",
   "execution_count": 32,
   "metadata": {},
   "outputs": [],
   "source": [
    "# Adding csv's to postgres\n",
    "\n",
    "movies.to_sql(\"movies\", engine, if_exists='append', index=False)\n",
    "tags.to_sql(\"tags\", engine, if_exists='append', index=False)"
   ]
  },
  {
   "cell_type": "code",
   "execution_count": 33,
   "metadata": {},
   "outputs": [],
   "source": [
    "# Make sure to close the connection\n",
    "\n",
    "connection.close()"
   ]
  },
  {
   "cell_type": "code",
   "execution_count": null,
   "metadata": {},
   "outputs": [],
   "source": []
  }
 ]
}