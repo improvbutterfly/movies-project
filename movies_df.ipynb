{
 "metadata": {
  "language_info": {
   "codemirror_mode": {
    "name": "ipython",
    "version": 3
   },
   "file_extension": ".py",
   "mimetype": "text/x-python",
   "name": "python",
   "nbconvert_exporter": "python",
   "pygments_lexer": "ipython3",
   "version": "3.7.7-final"
  },
  "orig_nbformat": 2,
  "kernelspec": {
   "name": "python3",
   "display_name": "Python 3",
   "language": "python"
  }
 },
 "nbformat": 4,
 "nbformat_minor": 2,
 "cells": [
  {
   "cell_type": "code",
   "execution_count": 2,
   "metadata": {},
   "outputs": [],
   "source": [
    "import pandas as pd\n",
    "import sqlalchemy\n",
    "from sqlalchemy import create_engine\n",
    "from config import login\n",
    "import csv"
   ]
  },
  {
   "cell_type": "code",
   "execution_count": 19,
   "metadata": {},
   "outputs": [],
   "source": [
    "# Loading csv files from movies_csv\n",
    "\n",
    "links = pd.read_csv(\"movies_csv/links.csv\")\n",
    "movies = pd.read_csv(\"movies_csv/movies.csv\")\n",
    "ratings = pd.read_csv(\"movies_csv/ratings.csv\")\n",
    "tags = pd.read_csv(\"movies_csv/tags.csv\")"
   ]
  },
  {
   "cell_type": "code",
   "execution_count": 3,
   "metadata": {
    "tags": []
   },
   "outputs": [],
   "source": [
    "# Open .dat files from GroupLensResearch from tag_files\n",
    "\n",
    "tag_file = open(\"tag_files/tags.dat\")\n",
    "movies_file = open(\"tag_files/movies.dat\")\n",
    "tag_relevance = open(\"tag_files/tag_relevance.dat\")\n"
   ]
  },
  {
   "cell_type": "code",
   "execution_count": 4,
   "metadata": {},
   "outputs": [],
   "source": [
    "# Formatting .dat files for pandas df\n",
    "\n",
    "tag_df = pd.read_csv(tag_file, sep='\\t', lineterminator='\\n')\n",
    "movies_df = pd.read_csv(movies_file, sep='\\t', lineterminator='\\n')\n",
    "tag_relevance = pd.read_csv(tag_relevance, sep='\\t', lineterminator='\\n')\n",
    "  \n",
    "tag_nlp = tag_df.rename(columns={\"0\": \"tag_id\", \"007\": \"tag\", \"61\": \"tag_popularity\"})\n",
    "movies_nlp = movies_df.rename(columns={\"1\": \"movie_id\", \"Toy Story (1995)\": \"title\", \"53059\": \"movie_popularity\"})\n",
    "relevance_nlp = tag_relevance.rename(columns={\"1\": \"movie_id\", \"0\": \"tag_id\", \"0.032\": \"relevance\"}) "
   ]
  },
  {
   "cell_type": "code",
   "execution_count": 16,
   "metadata": {},
   "outputs": [
    {
     "output_type": "execute_result",
     "data": {
      "text/plain": [
       "    movie_id  tag_id  relevance\n",
       "9        1.0    10.0      0.563\n",
       "27       1.0    28.0      0.894\n",
       "28       1.0    29.0      0.699\n",
       "59       1.0    60.0      0.623\n",
       "60       1.0    61.0      0.655"
      ],
      "text/html": "<div>\n<style scoped>\n    .dataframe tbody tr th:only-of-type {\n        vertical-align: middle;\n    }\n\n    .dataframe tbody tr th {\n        vertical-align: top;\n    }\n\n    .dataframe thead th {\n        text-align: right;\n    }\n</style>\n<table border=\"1\" class=\"dataframe\">\n  <thead>\n    <tr style=\"text-align: right;\">\n      <th></th>\n      <th>movie_id</th>\n      <th>tag_id</th>\n      <th>relevance</th>\n    </tr>\n  </thead>\n  <tbody>\n    <tr>\n      <th>9</th>\n      <td>1.0</td>\n      <td>10.0</td>\n      <td>0.563</td>\n    </tr>\n    <tr>\n      <th>27</th>\n      <td>1.0</td>\n      <td>28.0</td>\n      <td>0.894</td>\n    </tr>\n    <tr>\n      <th>28</th>\n      <td>1.0</td>\n      <td>29.0</td>\n      <td>0.699</td>\n    </tr>\n    <tr>\n      <th>59</th>\n      <td>1.0</td>\n      <td>60.0</td>\n      <td>0.623</td>\n    </tr>\n    <tr>\n      <th>60</th>\n      <td>1.0</td>\n      <td>61.0</td>\n      <td>0.655</td>\n    </tr>\n  </tbody>\n</table>\n</div>"
     },
     "metadata": {},
     "execution_count": 16
    }
   ],
   "source": [
    "# Narrowing down dataframe for size and relevance issues\n",
    "\n",
    "relevance_nl = relevance_nlp.where(relevance_nlp[\"relevance\"] >= 0.5)\n",
    "relevant = pd.DataFrame(relevance_nl)\n",
    "relevant = relevant.dropna()\n",
    "relevant.head()\n",
    "relevant.to_csv(\"tag_files/relevant.csv\")"
   ]
  },
  {
   "cell_type": "code",
   "execution_count": 24,
   "metadata": {},
   "outputs": [],
   "source": [
    "relevant.to_csv(\"tag_files/relevant.csv\")"
   ]
  },
  {
   "cell_type": "code",
   "execution_count": 17,
   "metadata": {},
   "outputs": [],
   "source": [
    "# Establishing connection\n",
    "# Make sure to manually create \"movie_db\" in postgres \n",
    "\n",
    "db_url = 'postgresql://' + login + '@localhost:5432/movie_db'\n",
    "engine = create_engine(db_url)\n",
    "connection = engine.connect()"
   ]
  },
  {
   "cell_type": "code",
   "execution_count": 20,
   "metadata": {},
   "outputs": [],
   "source": [
    "# Renaming columns\n",
    "links = links.rename(columns={\"movieId\": \"movie_id\"})\n",
    "movies = movies.rename(columns={\"movieId\": \"movie_id\", \"genres\": \"genre\"})\n",
    "ratings = ratings.rename(columns={\"movieId\": \"movie_id\", \"userId\": \"user_id\"})\n",
    "tags = tags.rename(columns={\"movieId\": \"movie_id\", \"userId\": \"user_id\"})"
   ]
  },
  {
   "cell_type": "code",
   "execution_count": 21,
   "metadata": {},
   "outputs": [],
   "source": [
    "# Adding csv's to postgres\n",
    "\n",
    "links.to_sql(\"links\", engine, if_exists='append', index=False)\n",
    "movies.to_sql(\"movies\", engine, if_exists='append', index=False)\n",
    "ratings.to_sql(\"ratings\", engine, if_exists='append', index=False)\n",
    "tags.to_sql(\"tags\", engine, if_exists='append', index=False)"
   ]
  },
  {
   "cell_type": "code",
   "execution_count": null,
   "metadata": {},
   "outputs": [],
   "source": [
    "# Adding .dat (in pd.df format) in csv\n",
    "\n",
    "tag_nlp.to_sql(\"tag_nlp\", engine, if_exists='append', index=False)\n",
    "movies_nlp.to_sql(\"movies_nlp\", engine, if_exists='append', index=False)\n",
    "relevant.to_sql(\"relevant\", engine, if_exists='append', index=False)"
   ]
  },
  {
   "cell_type": "code",
   "execution_count": 23,
   "metadata": {},
   "outputs": [],
   "source": [
    "# Make sure to close the connection\n",
    "\n",
    "connection.close()"
   ]
  },
  {
   "cell_type": "code",
   "execution_count": 18,
   "metadata": {},
   "outputs": [],
   "source": [
    "# Example query\n",
    "\n",
    "avg_ = f\"select r.movie_id, avg(rating), m.title, m.genre from ratings r \\\n",
    "inner join movies m ON r.movie_id=m.movie_id \\\n",
    "group by r.movie_id, m.title, m.genre \\\n",
    "order by avg desc;\"\n",
    "\n",
    "avg_rating = pd.read_sql(avg_, connection)"
   ]
  },
  {
   "cell_type": "code",
   "execution_count": null,
   "metadata": {},
   "outputs": [],
   "source": []
  }
 ]
}