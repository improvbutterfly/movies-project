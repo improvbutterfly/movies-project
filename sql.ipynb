{
 "metadata": {
  "language_info": {
   "codemirror_mode": {
    "name": "ipython",
    "version": 3
   },
   "file_extension": ".py",
   "mimetype": "text/x-python",
   "name": "python",
   "nbconvert_exporter": "python",
   "pygments_lexer": "ipython3",
   "version": "3.9.1-final"
  },
  "orig_nbformat": 2,
  "kernelspec": {
   "name": "python3",
   "display_name": "Python 3",
   "language": "python"
  }
 },
 "nbformat": 4,
 "nbformat_minor": 2,
 "cells": [
  {
   "cell_type": "code",
   "execution_count": 1,
   "metadata": {},
   "outputs": [],
   "source": [
    "import pandas as pd\n",
    "import sqlalchemy\n",
    "from sqlalchemy import create_engine\n",
    "from config import login"
   ]
  },
  {
   "cell_type": "code",
   "execution_count": 3,
   "metadata": {},
   "outputs": [],
   "source": [
    "# Establishing connection\n",
    "\n",
    "db_url = 'postgresql://' + login + '@localhost:5432/movie_db'\n",
    "engine = create_engine(db_url)\n",
    "connection = engine.connect()"
   ]
  },
  {
   "cell_type": "code",
   "execution_count": null,
   "metadata": {},
   "outputs": [],
   "source": [
    "query = f\"select t.movie_id, m.title, t.tag, m.genre from tags t \\\n",
    "inner join movies m on m.movie_id = t.movie_id \\\n",
    "where m.movie_id = 49530;\"\n",
    "\n",
    "query_time = pd.read_sql(query, connection )"
   ]
  },
  {
   "cell_type": "code",
   "execution_count": null,
   "metadata": {},
   "outputs": [],
   "source": [
    "# Example Query\n",
    "\n",
    "pixar = f\"select t.movie_id, t.tag, m.genre from tags t \\\n",
    "inner join movies m on m.movie_id = t.movie_id \\\n",
    "where m.movie_id = 1;\"\n",
    "\n",
    "pixar_ra = pd.read_sql(pixar, connection)"
   ]
  },
  {
   "cell_type": "code",
   "execution_count": null,
   "metadata": {},
   "outputs": [],
   "source": [
    "tags = f\"select movie_id, tag, count(tag) from tags \\\n",
    "group by movie_id, tag \\\n",
    "having count(tag) >= 5;\"\n",
    "\n",
    "tags = pd.read_sql(tags, connection)"
   ]
  },
  {
   "cell_type": "code",
   "execution_count": 8,
   "metadata": {},
   "outputs": [],
   "source": [
    "length = f\"select movie_id, count(tag) from tags \\\n",
    "group by movie_id \\\n",
    "having count(tag) >= 14;\"\n",
    "\n",
    "length_sql = pd.read_sql(length, connection)"
   ]
  },
  {
   "cell_type": "code",
   "execution_count": null,
   "metadata": {},
   "outputs": [],
   "source": [
    "update = f\"select movie_id, count(Distinct tag) from tags \\\n",
    "group by movie_id \\\n",
    "having count(Distinct tag) >= 6;\"\n",
    "\n",
    "update_sql = pd.read_sql(update, connection)"
   ]
  }
 ]
}