{
 "metadata": {
  "language_info": {
   "codemirror_mode": {
    "name": "ipython",
    "version": 3
   },
   "file_extension": ".py",
   "mimetype": "text/x-python",
   "name": "python",
   "nbconvert_exporter": "python",
   "pygments_lexer": "ipython3",
   "version": "3.7.7-final"
  },
  "orig_nbformat": 2,
  "kernelspec": {
   "name": "python3",
   "display_name": "Python 3",
   "language": "python"
  }
 },
 "nbformat": 4,
 "nbformat_minor": 2,
 "cells": [
  {
   "cell_type": "code",
   "execution_count": 2,
   "metadata": {},
   "outputs": [],
   "source": [
    "import pandas as pd\n",
    "import sqlalchemy\n",
    "from sqlalchemy import create_engine\n",
    "from config import login"
   ]
  },
  {
   "cell_type": "code",
   "execution_count": 3,
   "metadata": {},
   "outputs": [],
   "source": [
    "# Loading csv files\n",
    "\n",
    "links = pd.read_csv(\"movies_csv/links.csv\")\n",
    "movies = pd.read_csv(\"movies_csv/movies.csv\")\n",
    "ratings = pd.read_csv(\"movies_csv/ratings.csv\")\n",
    "tags = pd.read_csv(\"movies_csv/tags.csv\")"
   ]
  },
  {
   "cell_type": "code",
   "execution_count": 4,
   "metadata": {},
   "outputs": [],
   "source": [
    "# Establishing connection\n",
    "# Make sure to manually create \"movies_db\" in postgres \n",
    "\n",
    "db_url = 'postgresql://' + login + '@localhost:5432/movie_db'\n",
    "engine = create_engine(db_url)\n",
    "connection = engine.connect()"
   ]
  },
  {
   "cell_type": "code",
   "execution_count": 5,
   "metadata": {},
   "outputs": [],
   "source": [
    "links = links.rename(columns={\"movieId\": \"movie_id\"})\n",
    "movies = movies.rename(columns={\"movieId\": \"movie_id\", \"genres\": \"genre\"})\n",
    "ratings = ratings.rename(columns={\"movieId\": \"movie_id\", \"userId\": \"user_id\"})\n",
    "tags = tags.rename(columns={\"movieId\": \"movie_id\", \"userId\": \"user_id\"})"
   ]
  },
  {
   "cell_type": "code",
   "execution_count": 6,
   "metadata": {},
   "outputs": [],
   "source": [
    "# Adding csv's to postgres\n",
    "\n",
    "links.to_sql(\"links\", engine, if_exists='append', index=False)\n",
    "movies.to_sql(\"movies\", engine, if_exists='append', index=False)\n",
    "ratings.to_sql(\"ratings\", engine, if_exists='append', index=False)\n",
    "tags.to_sql(\"tags\", engine, if_exists='append', index=False)"
   ]
  },
  {
   "cell_type": "code",
   "execution_count": 7,
   "metadata": {},
   "outputs": [],
   "source": [
    "# Make sure to close the connection\n",
    "\n",
    "connection.close()"
   ]
  },
  {
   "cell_type": "code",
   "execution_count": 25,
   "metadata": {},
   "outputs": [
    {
     "output_type": "execute_result",
     "data": {
      "text/plain": [
       "      user_id  movie_id               tag   timestamp\n",
       "0           2     60756             funny  1445714994\n",
       "1           2     60756   Highly quotable  1445714996\n",
       "2           2     60756      will ferrell  1445714992\n",
       "3           2     89774      Boxing story  1445715207\n",
       "4           2     89774               MMA  1445715200\n",
       "...       ...       ...               ...         ...\n",
       "3678      606      7382         for katie  1171234019\n",
       "3679      606      7936           austere  1173392334\n",
       "3680      610      3265            gun fu  1493843984\n",
       "3681      610      3265  heroic bloodshed  1493843978\n",
       "3682      610    168248  Heroic Bloodshed  1493844270\n",
       "\n",
       "[3683 rows x 4 columns]"
      ],
      "text/html": "<div>\n<style scoped>\n    .dataframe tbody tr th:only-of-type {\n        vertical-align: middle;\n    }\n\n    .dataframe tbody tr th {\n        vertical-align: top;\n    }\n\n    .dataframe thead th {\n        text-align: right;\n    }\n</style>\n<table border=\"1\" class=\"dataframe\">\n  <thead>\n    <tr style=\"text-align: right;\">\n      <th></th>\n      <th>user_id</th>\n      <th>movie_id</th>\n      <th>tag</th>\n      <th>timestamp</th>\n    </tr>\n  </thead>\n  <tbody>\n    <tr>\n      <th>0</th>\n      <td>2</td>\n      <td>60756</td>\n      <td>funny</td>\n      <td>1445714994</td>\n    </tr>\n    <tr>\n      <th>1</th>\n      <td>2</td>\n      <td>60756</td>\n      <td>Highly quotable</td>\n      <td>1445714996</td>\n    </tr>\n    <tr>\n      <th>2</th>\n      <td>2</td>\n      <td>60756</td>\n      <td>will ferrell</td>\n      <td>1445714992</td>\n    </tr>\n    <tr>\n      <th>3</th>\n      <td>2</td>\n      <td>89774</td>\n      <td>Boxing story</td>\n      <td>1445715207</td>\n    </tr>\n    <tr>\n      <th>4</th>\n      <td>2</td>\n      <td>89774</td>\n      <td>MMA</td>\n      <td>1445715200</td>\n    </tr>\n    <tr>\n      <th>...</th>\n      <td>...</td>\n      <td>...</td>\n      <td>...</td>\n      <td>...</td>\n    </tr>\n    <tr>\n      <th>3678</th>\n      <td>606</td>\n      <td>7382</td>\n      <td>for katie</td>\n      <td>1171234019</td>\n    </tr>\n    <tr>\n      <th>3679</th>\n      <td>606</td>\n      <td>7936</td>\n      <td>austere</td>\n      <td>1173392334</td>\n    </tr>\n    <tr>\n      <th>3680</th>\n      <td>610</td>\n      <td>3265</td>\n      <td>gun fu</td>\n      <td>1493843984</td>\n    </tr>\n    <tr>\n      <th>3681</th>\n      <td>610</td>\n      <td>3265</td>\n      <td>heroic bloodshed</td>\n      <td>1493843978</td>\n    </tr>\n    <tr>\n      <th>3682</th>\n      <td>610</td>\n      <td>168248</td>\n      <td>Heroic Bloodshed</td>\n      <td>1493844270</td>\n    </tr>\n  </tbody>\n</table>\n<p>3683 rows × 4 columns</p>\n</div>"
     },
     "metadata": {},
     "execution_count": 25
    }
   ],
   "source": [
    "# Example queries"
   ]
  },
  {
   "cell_type": "code",
   "execution_count": null,
   "metadata": {},
   "outputs": [],
   "source": []
  }
 ]
}