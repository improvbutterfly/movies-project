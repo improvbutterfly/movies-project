{
 "cells": [
  {
   "cell_type": "code",
   "execution_count": 7,
   "metadata": {},
   "outputs": [],
   "source": [
    "# Loading dependencies (pip install rake_nltk)\n",
    "\n",
    "import pandas as pd\n",
    "import numpy as np\n",
    "\n",
    "from sklearn.metrics.pairwise import cosine_similarity\n",
    "from sklearn.feature_extraction.text import CountVectorizer "
   ]
  },
  {
   "cell_type": "code",
   "execution_count": 15,
   "metadata": {},
   "outputs": [
    {
     "output_type": "execute_result",
     "data": {
      "text/plain": [
       "      movie_id                                          title    year  \\\n",
       "2055    175585                                    Shot Caller  2017.0   \n",
       "3929       663                  Kids in the Hall: Brain Candy  1996.0   \n",
       "2185      3066                              Tora! Tora! Tora!  1970.0   \n",
       "3431    166492                         Office Christmas Party  2016.0   \n",
       "7472     64695  Sword of the Stranger (Sutorejia: Mukô hadan)  2007.0   \n",
       "\n",
       "                                           bag_of_words  count  \n",
       "2055                 action crime drama thriller prison     48  \n",
       "3929                                            comedy      16  \n",
       "2185                        action drama war worldwarii     54  \n",
       "3431                                            comedy      14  \n",
       "7472  action adventure animation anime anti-hero sam...     42  "
      ],
      "text/html": "<div>\n<style scoped>\n    .dataframe tbody tr th:only-of-type {\n        vertical-align: middle;\n    }\n\n    .dataframe tbody tr th {\n        vertical-align: top;\n    }\n\n    .dataframe thead th {\n        text-align: right;\n    }\n</style>\n<table border=\"1\" class=\"dataframe\">\n  <thead>\n    <tr style=\"text-align: right;\">\n      <th></th>\n      <th>movie_id</th>\n      <th>title</th>\n      <th>year</th>\n      <th>bag_of_words</th>\n      <th>count</th>\n    </tr>\n  </thead>\n  <tbody>\n    <tr>\n      <th>2055</th>\n      <td>175585</td>\n      <td>Shot Caller</td>\n      <td>2017.0</td>\n      <td>action crime drama thriller prison</td>\n      <td>48</td>\n    </tr>\n    <tr>\n      <th>3929</th>\n      <td>663</td>\n      <td>Kids in the Hall: Brain Candy</td>\n      <td>1996.0</td>\n      <td>comedy</td>\n      <td>16</td>\n    </tr>\n    <tr>\n      <th>2185</th>\n      <td>3066</td>\n      <td>Tora! Tora! Tora!</td>\n      <td>1970.0</td>\n      <td>action drama war worldwarii</td>\n      <td>54</td>\n    </tr>\n    <tr>\n      <th>3431</th>\n      <td>166492</td>\n      <td>Office Christmas Party</td>\n      <td>2016.0</td>\n      <td>comedy</td>\n      <td>14</td>\n    </tr>\n    <tr>\n      <th>7472</th>\n      <td>64695</td>\n      <td>Sword of the Stranger (Sutorejia: Mukô hadan)</td>\n      <td>2007.0</td>\n      <td>action adventure animation anime anti-hero sam...</td>\n      <td>42</td>\n    </tr>\n  </tbody>\n</table>\n</div>"
     },
     "metadata": {},
     "execution_count": 15
    }
   ],
   "source": [
    "# Loading the bag of soup dataframe\n",
    "main_df = pd.read_csv(\"big_movies_csv/the_main_df.csv\")\n",
    "main_df.sample(5)\n"
   ]
  },
  {
   "cell_type": "code",
   "execution_count": 9,
   "metadata": {},
   "outputs": [
    {
     "output_type": "stream",
     "name": "stdout",
     "text": [
      "[[1.         0.         0.20412415 ... 0.         0.40824829 0.35355339]\n [0.         1.         0.         ... 0.70710678 0.40824829 0.        ]\n [0.20412415 0.         1.         ... 0.         0.33333333 0.        ]\n ...\n [0.         0.70710678 0.         ... 1.         0.57735027 0.        ]\n [0.40824829 0.40824829 0.33333333 ... 0.57735027 1.         0.28867513]\n [0.35355339 0.         0.         ... 0.         0.28867513 1.        ]]\n"
     ]
    }
   ],
   "source": [
    "# Turning the bag_of_words into a matrix\n",
    "\n",
    "count = CountVectorizer()\n",
    "count_matrix = count.fit_transform(main_df['bag_of_words'])\n",
    "cosine_sim = cosine_similarity(count_matrix, count_matrix)\n",
    "print(cosine_sim)"
   ]
  },
  {
   "cell_type": "code",
   "execution_count": 10,
   "metadata": {},
   "outputs": [],
   "source": [
    "# Turning title column into a series\n",
    "\n",
    "indices = pd.Series(main_df['title'])"
   ]
  },
  {
   "cell_type": "code",
   "execution_count": 11,
   "metadata": {},
   "outputs": [],
   "source": [
    "# Create the equation\n",
    "\n",
    "def recommend(title, cosine_sim = cosine_sim):\n",
    "    \n",
    "    recommended_movies = []\n",
    "    idx = indices[indices == title].index[0]\n",
    "    score_series = pd.Series(cosine_sim[idx]).sort_values(ascending = False)\n",
    "    top_10_indices = list(score_series.iloc[1:11].index)\n",
    "    \n",
    "    for i in top_10_indices:\n",
    "        recommended_movies.append(list(main_df['title'])[i])\n",
    "        \n",
    "    return recommended_movies"
   ]
  },
  {
   "cell_type": "code",
   "execution_count": 12,
   "metadata": {
    "scrolled": false
   },
   "outputs": [
    {
     "output_type": "execute_result",
     "data": {
      "text/plain": [
       "['Little Mermaid, The',\n",
       " 'Beauty and the Beast',\n",
       " 'Song of the South',\n",
       " 'Rock-A-Doodle',\n",
       " 'Snowman, The',\n",
       " 'Many Adventures of Winnie the Pooh, The',\n",
       " 'Three Caballeros, The',\n",
       " \"Cats Don't Dance\",\n",
       " 'Winnie the Pooh and the Blustery Day',\n",
       " 'Little Drummer Boy, The']"
      ]
     },
     "metadata": {},
     "execution_count": 12
    }
   ],
   "source": [
    "recommend(\"Lion King, The\")"
   ]
  },
  {
   "cell_type": "code",
   "execution_count": null,
   "metadata": {},
   "outputs": [],
   "source": []
  }
 ],
 "metadata": {
  "kernelspec": {
   "display_name": "Python 3",
   "language": "python",
   "name": "python3"
  },
  "language_info": {
   "codemirror_mode": {
    "name": "ipython",
    "version": 3
   },
   "file_extension": ".py",
   "mimetype": "text/x-python",
   "name": "python",
   "nbconvert_exporter": "python",
   "pygments_lexer": "ipython3",
   "version": "3.7.7-final"
  }
 },
 "nbformat": 4,
 "nbformat_minor": 4
}